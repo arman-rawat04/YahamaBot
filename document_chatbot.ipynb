{
  "cells": [
    {
      "cell_type": "code",
      "execution_count": 1,
      "metadata": {
        "id": "KVpCcHEWBB1q"
      },
      "outputs": [
        {
          "name": "stdout",
          "output_type": "stream",
          "text": [
            "Token has not been saved to git credential helper. Pass `add_to_git_credential=True` if you want to set the git credential as well.\n",
            "Token is valid (permission: read).\n",
            "Your token has been saved to /home/vikas/.cache/huggingface/token\n",
            "Login successful\n"
          ]
        }
      ],
      "source": [
        "from huggingface_hub import login\n",
        "import os\n",
        "from dotenv import load_dotenv\n",
        "load_dotenv()\n",
        "HF_TOKEN = os.getenv(\"HF_TOKEN\")\n",
        "login(token=HF_TOKEN)"
      ]
    },
    {
      "cell_type": "code",
      "execution_count": 2,
      "metadata": {
        "id": "-sZkqqgOdh77"
      },
      "outputs": [],
      "source": [
        "path=\"DocBot/english/\""
      ]
    },
    {
      "cell_type": "code",
      "execution_count": 3,
      "metadata": {
        "id": "j5mt3_d9eGeF"
      },
      "outputs": [
        {
          "name": "stderr",
          "output_type": "stream",
          "text": [
            "This function will be deprecated in a future release and `unstructured` will simply use the DEFAULT_MODEL from `unstructured_inference.model.base` to set default model name\n",
            "Some weights of the model checkpoint at microsoft/table-transformer-structure-recognition were not used when initializing TableTransformerForObjectDetection: ['model.backbone.conv_encoder.model.layer2.0.downsample.1.num_batches_tracked', 'model.backbone.conv_encoder.model.layer3.0.downsample.1.num_batches_tracked', 'model.backbone.conv_encoder.model.layer4.0.downsample.1.num_batches_tracked']\n",
            "- This IS expected if you are initializing TableTransformerForObjectDetection from the checkpoint of a model trained on another task or with another architecture (e.g. initializing a BertForSequenceClassification model from a BertForPreTraining model).\n",
            "- This IS NOT expected if you are initializing TableTransformerForObjectDetection from the checkpoint of a model that you expect to be exactly identical (initializing a BertForSequenceClassification model from a BertForSequenceClassification model).\n"
          ]
        }
      ],
      "source": [
        "from typing import Any\n",
        "\n",
        "from pydantic import BaseModel\n",
        "from unstructured.partition.pdf import partition_pdf\n",
        "\n",
        "# Get elements\n",
        "raw_pdf_elements = partition_pdf(\n",
        "    filename=path + \"sample_pdf.pdf\",\n",
        "    # Using pdf format to find embedded image blocks\n",
        "    extract_images_in_pdf=True,\n",
        "    # Use layout model (YOLOX) to get bounding boxes (for tables) and find titles\n",
        "    # Titles are any sub-section of the document\n",
        "    infer_table_structure=True,\n",
        "    # Post processing to aggregate text once we have the title\n",
        "    chunking_strategy=\"by_title\",\n",
        "    # Chunking params to aggregate text blocks\n",
        "    # Attempt to create a new chunk 3800 chars\n",
        "    # Attempt to keep chunks > 2000 chars\n",
        "    # Hard max on chunks\n",
        "    max_characters=1850,\n",
        "    new_after_n_chars=1750,\n",
        "    combine_text_under_n_chars=1000,\n",
        "    image_output_dir_path=path,\n",
        ")"
      ]
    },
    {
      "cell_type": "code",
      "execution_count": 4,
      "metadata": {
        "id": "Jz1tF5dsekZ0"
      },
      "outputs": [
        {
          "data": {
            "text/plain": [
              "{\"<class 'unstructured.documents.elements.CompositeElement'>\": 13,\n",
              " \"<class 'unstructured.documents.elements.Table'>\": 1}"
            ]
          },
          "execution_count": 4,
          "metadata": {},
          "output_type": "execute_result"
        }
      ],
      "source": [
        "# Create a dictionary to store counts of each type\n",
        "category_counts = {}\n",
        "\n",
        "for element in raw_pdf_elements:\n",
        "    category = str(type(element))\n",
        "    if category in category_counts:\n",
        "        category_counts[category] += 1\n",
        "    else:\n",
        "        category_counts[category] = 1\n",
        "\n",
        "# Unique_categories will have unique elements\n",
        "unique_categories = set(category_counts.keys())\n",
        "category_counts"
      ]
    },
    {
      "cell_type": "code",
      "execution_count": 5,
      "metadata": {
        "id": "QeP5IodCBO_z"
      },
      "outputs": [
        {
          "data": {
            "text/plain": [
              "{'type': 'NarrativeText',\n",
              " 'element_id': '96a8ec9a-845a-45b5-8e27-759643bdc150',\n",
              " 'text': 'YRC (Yamaha Ride Control) Yamaha Ride Control is a system that incorporates numerous sensors and controls to support an improved riding experience. The vehicle senses and can react to forces along the longitudi- nal (front-to-back), lateral (left-to-right), and vertical (up-and-down) axes. Lean angle and G-force accelerations are also detected. This information is proc- essed multiple times a second and the related physical systems are automati- cally adjusted as necessary. The fol- lowing functions represent individual YRC items which can be turned on/off or adjusted to suit various riders and riding conditions. For setting details, see pages 4-15 and 4-19.',\n",
              " 'metadata': {'detection_class_prob': 0.9282627701759338,\n",
              "  'coordinates': {'points': ((173.21183333333323, 229.26394444444438),\n",
              "    (173.21183333333323, 829.2650555555554),\n",
              "    (647.74169921875, 829.2650555555554),\n",
              "    (647.74169921875, 229.26394444444438)),\n",
              "   'system': 'PixelSpace',\n",
              "   'layout_width': 1812,\n",
              "   'layout_height': 1323},\n",
              "  'last_modified': '2024-04-27T12:21:09',\n",
              "  'filetype': 'PPM',\n",
              "  'languages': ['eng'],\n",
              "  'page_number': 1}}"
            ]
          },
          "execution_count": 5,
          "metadata": {},
          "output_type": "execute_result"
        }
      ],
      "source": [
        "raw_pdf_elements[0].metadata.orig_elements[1].to_dict()"
      ]
    },
    {
      "cell_type": "code",
      "execution_count": 6,
      "metadata": {},
      "outputs": [
        {
          "name": "stdout",
          "output_type": "stream",
          "text": [
            "14\n"
          ]
        },
        {
          "data": {
            "text/plain": [
              "'EWaz08e0\\n\\nEWA20880\\n\\nMake sure the engine has sufficient- ly slowed before shifting to a lower gear. Engaging a lower gear when the engine speed is too high could make the rear wheel lose traction. This could cause loss of control, an accident and injury. It could also cause engine or drivetrain damage.\\n\\nQuick shifter The quick shifter allows for clutch lev- er-less, electronically-assisted shifting.\\n\\n—p—\\n\\nWhen the sensor on the shift rod de- tects the appropriate motion in the shift pedal, engine power output is momen- tarily adjusted to allow for the gear change to occur. The quick shifter does not operate when the clutch lever is pulled, there- fore normal shifting can be done even when the quick shifter is set to on. Check the quick shifter indicator for current status and usability informa- tion.'"
            ]
          },
          "execution_count": 6,
          "metadata": {},
          "output_type": "execute_result"
        }
      ],
      "source": [
        "unchunked_list = []\n",
        "\n",
        "for ele in raw_pdf_elements:\n",
        "    sublist = []\n",
        "    for orig_ele in ele.metadata.orig_elements:\n",
        "        metadata = orig_ele.metadata.to_dict()\n",
        "        filtered_dict = {}\n",
        "        filtered_dict['text'] = orig_ele.to_dict()['text']\n",
        "        filtered_dict['type'] = orig_ele.to_dict()['type']\n",
        "        filtered_dict['page_number'] = metadata['page_number']\n",
        "        if 'image_path' in metadata:\n",
        "            filtered_dict['image_path']=metadata['image_path']\n",
        "        sublist.append(filtered_dict)\n",
        "    unchunked_list.append(sublist)\n",
        "print(len(unchunked_list))\n",
        "\n",
        "chunk_text_list = [i.text for i in raw_pdf_elements]\n",
        "chunk_text_list[3]"
      ]
    },
    {
      "cell_type": "code",
      "execution_count": 7,
      "metadata": {},
      "outputs": [
        {
          "data": {
            "text/plain": [
              "{'text': 'YRC (Yamaha Ride Control) Yamaha Ride Control is a system that incorporates numerous sensors and controls to support an improved riding experience. The vehicle senses and can react to forces along the longitudi- nal (front-to-back), lateral (left-to-right), and vertical (up-and-down) axes. Lean angle and G-force accelerations are also detected. This information is proc- essed multiple times a second and the related physical systems are automati- cally adjusted as necessary. The fol- lowing functions represent individual YRC items which can be turned on/off or adjusted to suit various riders and riding conditions. For setting details, see pages 4-15 and 4-19.',\n",
              " 'type': 'NarrativeText',\n",
              " 'page_number': 1}"
            ]
          },
          "execution_count": 7,
          "metadata": {},
          "output_type": "execute_result"
        }
      ],
      "source": [
        "unchunked_list[0][1]\n",
        "# raw_pdf_elements[0].metadata.orig_elements[10].to_dict()"
      ]
    },
    {
      "cell_type": "code",
      "execution_count": 2,
      "metadata": {
        "id": "gUB02XVbx2vD"
      },
      "outputs": [],
      "source": [
        "from langchain_core.output_parsers import StrOutputParser\n",
        "from langchain_core.prompts import ChatPromptTemplate\n",
        "# from langchain_openai import ChatOpenAI\n",
        "\n",
        "import pathlib\n",
        "import textwrap\n",
        "import google.generativeai as genai\n",
        "from IPython.display import display\n",
        "from IPython.display import Markdown\n",
        "# Used to securely store your API key\n",
        "\n",
        "from langchain_community.chat_models import ChatOllama\n",
        "from langchain_core.output_parsers import StrOutputParser\n",
        "from langchain_core.prompts import ChatPromptTemplate\n",
        "from ctransformers import AutoModelForCausalLM as cAutoModelForCausalLM\n",
        "from ctransformers import AutoConfig, Config"
      ]
    },
    {
      "cell_type": "code",
      "execution_count": 3,
      "metadata": {
        "id": "US-ndaXtM1nz"
      },
      "outputs": [
        {
          "data": {
            "application/vnd.jupyter.widget-view+json": {
              "model_id": "b0adc6db4b9e44b3b0d9b1fe749cc801",
              "version_major": 2,
              "version_minor": 0
            },
            "text/plain": [
              "Fetching 1 files:   0%|          | 0/1 [00:00<?, ?it/s]"
            ]
          },
          "metadata": {},
          "output_type": "display_data"
        }
      ],
      "source": [
        "conf = AutoConfig(Config(temperature=0.8, repetition_penalty=1.1,\n",
        "                         batch_size=52, max_new_tokens=3000,\n",
        "                         context_length=4096,gpu_layers=5))\n",
        "llm = cAutoModelForCausalLM.from_pretrained(\"TheBloke/Mistral-7B-Instruct-v0.2-GGUF\", model_type=\"mistral\", config=conf)"
      ]
    },
    {
      "cell_type": "code",
      "execution_count": 10,
      "metadata": {},
      "outputs": [],
      "source": [
        "def generate_output(question):\n",
        "    formatted_input = f\"<s> <INST> {question} </INST>\"\n",
        "    output = llm(formatted_input,repetition_penalty=1.15, max_new_tokens=3000)\n",
        "\n",
        "    return output\n",
        "\n",
        "def prompt_input(input_text):\n",
        "    prompt_text = \"\"\"You are an assistant tasked with summarizing tables and text. \\\n",
        "Give a concise summary of the table or text. \\\n",
        "The text chunk which you will receive will be in the following format: {{'text': '', 'type': '', 'page_number': }}. If the type argument has value 'Title', THEN MAKE SURE to include it in your summary. There may be more than one title in the text chunk you will receive; make sure that you give EACH text which has 'Title' type in your summary output. If there is any text in the image, include that too. Ignore all the page numbers. Do not use new line characters. \\\n",
        "Table or text chunk: {element} \"\"\"\n",
        "    return prompt_text.format(element=input_text)"
      ]
    },
    {
      "cell_type": "code",
      "execution_count": 11,
      "metadata": {
        "id": "gH2AD6vONNNA"
      },
      "outputs": [],
      "source": [
        "lambda_chain = lambda input_list: list(map(lambda text: generate_output(prompt_input(text)), input_list))\n",
        "# Apply to text\n",
        "text_summaries = lambda_chain(unchunked_list)"
      ]
    },
    {
      "cell_type": "code",
      "execution_count": 12,
      "metadata": {
        "id": "6F_bhya1RYeQ"
      },
      "outputs": [
        {
          "data": {
            "text/plain": [
              "[' Title: Yamaha Ride Control (YRC); this system enhances riding experience by incorporating sensors and adjusting vehicle responses based on forces along longitudinal, lateral, and vertical axes. The system includes functions that can be adjusted or turned on/off to suit riders and conditions. Warning: YRC is not a substitute for proper riding techniques or expertise; it cannot prevent loss of control caused by rider errors such as excessive speed or sharp turns, or hard braking. Power delivery mode system offers four control maps allowing adjustment of throttle valve opening based on preferred settings and environment.',\n",
              " ' This text and image document discusses the traction control system in a Yamaha vehicle. The system helps maintain traction by regulating engine power when sensors detect slippage in the rear wheel. When cornering, it applies more control to maximize acceleration. There are tips provided regarding its engagement over bumps and noticeable changes in sounds when engaged. Images accompany the descriptions on pages 1 and 2, titled \"Special features.\" On page 1, there\\'s also mention of a PWR system with numbered items from 1 through 6. Page 2 includes further details about how the traction control system adjusts according to vehicle lean angles and provides tips on its functioning.',\n",
              " ' Title: A Warning and Notices\\n\\n1. Traction control system is not a substitute for appropriate riding conditions. It cannot prevent loss of traction due to excessive speed, sharp lean angles, or while braking. Manually turn the traction control system on or off when the key is in the \"ON\" position and the motorcycle is stopped.\\n2. Tip: Turn off the traction control system to help free the rear wheel if the motorcycle gets stuck in mud, sand, or other soft surfaces.\\n3. Warning: Use only specified tires (refer page 7-15). Using different sized tires will prevent the traction control system from controlling tire rotation accurately.\\n4. Notice: The slide control system regulates engine power output when a sideward slide is detected in the rear wheel. It adjusts power based on IMU data, supporting the traction control system for a smoother ride.\\n5. Engine brake management system reduces engine torque during deceleration. Fuel injection, ignition timing, and electronic throttle valve are electronically adjusted by the ECU with 2 settings to suit track conditions or personal preference.',\n",
              " ' Title: EWA08e0, Unknown Title (1)\\n\\nText summary: Making a gear shift in a vehicle requires ensuring the engine has sufficiently slowed down before shifting to a lower gear. Engaging a lower gear when the engine speed is too high could result in loss of control, accidents, injuries, and potential damage to the engine or drivetrain. The quick shifter is an electronic feature that assists in clutch-less, seamless shifting. When the sensor on the shift rod detects the appropriate motion in the shift pedal, engine power output is adjusted for a gear change to occur. The quick shifter does not operate when the clutch lever is pulled and allows for normal shifting as well.',\n",
              " \" In this text chunk at page 3, there's a table describing the usability indicators of a quick shifter. The indicators are:\\n- Upshifting: OK\\n- Downshifting: OK\\n- Both upshifting and downshift- ing: OK\\n- Quick shifter cannot be used\\n- Quick shifter turned off.\",\n",
              " ' Title: Upshifting and Downshifting conditions\\n\\n- Upshifting: vehicle speed of at least 20 km/h (12 mi/h)\\n- Engine speed of at least 2100 r/min\\n\\nTitle: Special features\\n\\n- Brake control system regulates hydraulic brake pressure for front and rear wheels\\n- BC1 is standard ABS, adjusts brake pressure based on vehicle and wheel speed data\\n- BC2 uses additional IMU data to regulate applied brake power during cornering to suppress lateral wheel slip\\n\\nNarrative text: The lift control system reduces the rate of front-wheel lift during extreme acceleration. Brake control system regulates hydraulic brake pressure for front and rear wheels when brakes are applied and wheel lock is detected, with two settings. BC1/BC2 image available on page 4.\\n\\nBrake control system is not a substitute for proper riding techniques, cannot prevent all loss of traction due to excessive speed or lateral slip.',\n",
              " \" Title: wheel slip when braking on slippery surfaces\\n\\nNarrative Text (Page 4): The electronic racing suspension by ÖHLINS features Objective-based tuning interface for simplified setting changes of automatic suspension control modes. Manual modes offer a finely-tunable traditional setup. The ERS system is controlled by the SCU, which adjusts front and rear suspension's compression stroke and rebound damping independently. Automatic modes adjust suspension damping forces based on running conditions.\\n\\nNarrative Text (Page 5): YRC functions visual guide\\n\\n1. Start\",\n",
              " ' Title: OnkRon (5) and Special features (5, 6)\\n\\nThe text summarizes the features of a motorcycle model named OnkRon. The title \"OnkRon\" appears on pages 5 and 5. This motorcycle comes with special features including a cruise control system that maintains a set cruising speed without holding the throttle open by hand, applicable in specific gear settings (4th, 5th or 6th) and speeds between approximately 50 km/h to 192 km/h. Users must use the feature responsibly as improper usage may lead to loss of control and potential accidents. The text also includes information about cruise control system indicator lights and switches. There is an image associated with this topic on page 6. Additionally, there\\'s a title \"Special features\" that appears on pages 5 and 6, but no specific details are provided in the text chunk related to this title for those pages.',\n",
              " ' Title: Activating and Setting the Cruise Control System\\n\\n- To activate: push the cruise control/YVSL button on the power switch. The system indicator light comes on.\\n- Adjust set cruising speed: push \"SET–\" side of the cruise control setting switch. Increments can be adjusted in 1 km/h increments by pressing once or in 10 km/h increments by holding down the button.\\n- Manual adjustment: increase traveling speed using throttle, then set new cruising speed if desired. If not set, vehicle decelerates to previously set speed when decreasing throttle.',\n",
              " ' This text discusses how to deactivate and reactivate the cruise control system on a vehicle. The \"TIP\" titles indicate important information: on page 7, the cruise control speed can be viewed in the vehicle displays (page 4-11 not provided), and traveling speed decreases when deactivating the system unless the throttle grip is turned. To cancel the set cruising speed, one can turn the throttle grip past its closed position or apply the brake, disengage the clutch, shift gears, or push the cruise control switch to turn off the system. The \"resume function\" allows the system to return to the previously set speed after deactivation if desired, but using it when the previous speed is too high for current conditions can be dangerous. There\\'s also a mention of special features on page 7.',\n",
              " ' Title: Trip Tips for Operating the Cruise Control System\\n\\nSummary: The following text outlines conditions under which the cruise control system of a specific vehicle model is automatically deactivated. These include when the set cruising speed cannot be maintained, wheel slip or spin is detected, the start/engine stop switch is in the \"off\" position, the engine stalls, or the sidestand is lowered. When traveling with a set cruising speed and any of these conditions occur, the indicator light will flash for 4 seconds before going off. If not traveling with a set speed and one of these conditions occurs, the indicator light will go off immediately. Before using cruise control again after it\\'s been deactivated, activate it using the cruise control/YVSL power switch. Additional features include the system being unable to maintain cruising speed under certain circumstances, detection of wheel slip or spin, and traction control operating normally while the cruise control is active unless switched off.',\n",
              " \" Title: Cruise Control on Vehicle\\n\\nSummary: This text discusses the limitations of a vehicle's cruise control system when traveling uphill or downhill. When encountering an uphill grade, the actual traveling speed may fall below the set cruising speed and require the driver to manually accelerate using the throttle. Conversely, on a downhill slope, the actual speed may exceed the set cruising speed, causing the cruise control/YVSL setting switch to deactivate. To reduce the vehicle's speed during this situation, apply the brakes until reaching the desired traveling speed. The text also mentions that the Yamaha variable speed limiter (YVSL) can be set between 50 km/h and 192 km/h to limit the maximum vehicle speed.\",\n",
              " ' Title: Warning for Using YVSL system\\n\\n1. Improper use of the YVSL system may result in loss of control, leading to an accident. Do not activate it in heavy traffic, poor weather conditions, or among winding, slippery, hilly, rough or gravel roads. The system may not be able to maintain set speed limits under certain conditions and when not in use, make sure the display is off.\\n2. Description of YVSL components: YVSL display, speed setting indicator, YVSL “ ” indicator icon. Use \"RES+\" and \"SET-\" switches for cruise control/YVSL settings.\\n3. Caution: The YVSL system may not maintain set speed limits under certain conditions such as downhill travel, sudden acceleration, or following a gear shift. If the vehicle exceeds the set limit by more than 5 km/h (3 mi/h), the \" ” indicator icon will flash until it returns within the limit. Apply brakes if necessary when the YVSL disengages. Engine output is gradually derestricted to ensure a smooth transition back to full rider control of the throttle.',\n",
              " ' This text summarizes instructions for activating and setting the Yamaha YVSL (Yamaha Variable Transmission System) on a motorcycle. The process involves pushing the cruise control/YVSL switch to the left on the power switch, activating the system indicator light, then pushing it again to switch to standby mode. Afterward, pressing the \"SET–\" side of the switch allows the user to set the speed limit using the YVSL display. A tip is provided that pushing the switch while the cruise control system is active will switch it to standby and vice versa. It\\'s also mentioned that both systems cannot be active simultaneously.']"
            ]
          },
          "execution_count": 12,
          "metadata": {},
          "output_type": "execute_result"
        }
      ],
      "source": [
        "text_summaries"
      ]
    },
    {
      "cell_type": "code",
      "execution_count": 8,
      "metadata": {
        "id": "94iSLAt6PYLK"
      },
      "outputs": [],
      "source": [
        "import uuid\n",
        "\n",
        "from langchain.retrievers.multi_vector import MultiVectorRetriever\n",
        "from langchain.storage import InMemoryStore\n",
        "from langchain_community.embeddings import GPT4AllEmbeddings\n",
        "from langchain_community.vectorstores import Chroma\n",
        "from langchain_core.documents import Document\n",
        "\n",
        "# The vectorstore to use to index the child chunks\n",
        "vectorstore = Chroma(\n",
        "    collection_name=\"summaries\", embedding_function=GPT4AllEmbeddings(), persist_directory=\"./chromadb\"\n",
        ")\n",
        "\n",
        "# The storage layer for the parent documents\n",
        "store = InMemoryStore()  # <- Can we extend this to images\n",
        "id_key = \"doc_id\"\n",
        "\n",
        "# The retriever (empty to start)\n",
        "retriever = MultiVectorRetriever(\n",
        "    vectorstore=vectorstore,\n",
        "    docstore=store,\n",
        "    id_key=id_key,\n",
        ")"
      ]
    },
    {
      "cell_type": "code",
      "execution_count": 13,
      "metadata": {},
      "outputs": [
        {
          "name": "stdout",
          "output_type": "stream",
          "text": [
            "['22b0678a-61f7-45dd-af3f-2c65b16a9598', '978f23c5-4ccd-45fa-a153-caeea2052f8f', 'da7b77a9-edef-4b52-8879-c66b9d530ac7', '7bdf332a-9206-418e-b8c6-c07879e2691b', 'db775636-ace4-4312-a2ee-abd65d507644', 'dc7291e9-9401-46f0-9691-4d22bb380ffb', '834d93d4-005f-4808-8c50-a8b193d38f56', '0673da4b-67da-4b5c-8eb9-401384573bb4', '2e872210-1157-4064-b09c-177895bc65cb', 'f14f2486-df69-402f-93ed-06e6dbb14c1f', '97372640-1f99-4b4e-b774-d8ed655c364c', 'fca97113-e891-41fe-94af-620291f1f35b', '77ae2b71-0e4a-42a9-aabd-b3f9cf094ee4', '9aec483d-a79e-4c39-b311-818c1ef430ec', 'ab3ad65b-b927-43b2-9923-36ee0b746878', '0eadd4e0-2a96-4697-a47e-8ce197c9f79b', 'cde11df6-7d59-4a5c-8fe0-7f3cd1c76bb8', '3db24b73-9475-47ba-883d-7fbb6db3ad65', 'fccf5c93-8ea2-4c26-b3c0-5290e2850600', '14e8673f-af73-4c5e-8a0b-a51af9e1276c', '3d22a828-26e4-4d3f-b0f0-ead7b24d4be8', '9cbaa180-b622-4ed2-9029-122e1ed99b7b', '9feeb893-7e52-41cb-9c89-6e1954c27866', '3b51ae27-b165-4f34-8d2b-1765cb0fc3be', 'f86bb3fc-3a62-4bce-a8e0-46f2e826bd1a', '41b21e5a-ff75-41f6-8ea7-7637845e1dca', '7ea007d4-b58d-4164-9fa8-2525c45d8fd2', '55bbf1da-4ea1-49ae-9a64-0c0a1d82d0ef', '04957a5f-89bb-4344-8a03-017f50ded065', 'eb235f7a-34b7-44dc-9da6-60ab3235d38b', '71e00e2b-7143-4742-8d5b-e20851fe1d29', 'a436a97d-0035-4eed-8d72-4cd11c0dc9fa', 'd5ff4234-c75c-49c1-bae3-f14d19049832', '93aa07ca-e9eb-401d-8cc5-59a0af9b8767', '9584354f-b65a-4dae-a1e0-7ae4c78f8e27', 'f702789e-f990-4b37-a9c9-991c3cc4fe37', '18fe49ba-d046-4fe3-8e13-048385e1bb7f', '4e24cb27-c05c-4adb-b8c0-61163cd14451', '59d6ba41-fef8-4acd-b2ec-2dd39c655e65', 'f0e63ead-c03d-4ee3-bfe0-3b54ebece2ec', '32f3e63e-b2ec-408f-91b8-8cff50a82c97', 'ecdbc44e-350c-4e41-a0df-bb70ca556a95', 'e19f4f29-dbaf-4e93-b98b-210371833908', 'a2ae0223-75ff-4fb6-bb65-c24b361bc9ca', '31891397-b9e0-4a2a-bc39-fa55a0e000e4', '1cde8bcf-78a0-405e-aa2d-d35381aac4cd', 'c24844ae-b515-4801-a3be-e14fcd57adf9', '8f6a4703-77ef-417d-bc7a-264d6a1d4f78', 'a5c8b93f-6819-484e-a26c-b8d58dd7639b', 'f48e69c3-2089-44d4-a900-8ff1cde6541d', '1c37a802-3175-4a39-8e78-02f55c018636', 'dc67ffec-d3ab-4cc3-aea5-509fb759f9a4', '66a4905b-e370-4761-ba33-25c713802624', 'fb6b49b4-bc1c-4265-b878-c2e6195b2463', 'c96ceedf-6468-4a7d-ab19-55af648f313a', '4fbce1cc-741a-47f0-a9fe-fbb826453497', '61a8da20-78d2-4048-8046-124a509fa47f', 'debf0d67-a48b-44a0-bbef-a7db866d0caa', '36442818-60f3-4efa-8a79-980c6c706ca8', '29be1048-412e-4e0b-a91d-c2e89f35bf7d', 'ece00e5e-c2b6-4e30-b881-d6c04e67bc90', '1bf6a81b-aa30-4b29-8050-a680ad468c5b', '2ef03ab8-620c-47d5-9cb7-bfa25199cc64', 'fc46db7f-3bfd-4378-a356-ad2d069a94a8', '8c842b31-848b-4f6a-8a1d-fafe8387199d', 'a4117bbb-84f5-4df8-b62e-af1cdb60ed19', 'cfd0811a-4dd4-4459-8ff1-d6642bbd7339', '66571d29-0bb2-4f46-bd00-3363a3f36c26', '774fa755-d6da-47c2-8e22-2ed7b2c930c2', '9dde26da-60bd-40f8-b694-bab44f4b68ff', '9f2f5e62-f1c5-493b-a56c-778b15788504', 'd8e36158-c877-423b-89da-0d0009730877', '4054690c-7132-43c1-85be-b99668811107', 'df8cf158-5536-48d8-affa-a2773278791d', 'ddb385e9-d3aa-4fe5-a283-53f70e8fc157', '84033bd3-4a94-47ff-a0cc-c85ca53e867c', '8d7d859a-35d8-40b0-879b-bc2e45d9ce86', '03178b2f-574a-43f4-86b9-296e039a33b7', '8b44bd5d-9349-4628-8239-cb3b27f4c9a7', 'eecabb1f-45a1-4f75-b2fe-61ce1e16aa7c', '8483704f-ad3a-4f18-91dc-d2c34c59efe0', '1b5b4517-e209-4f43-a25b-e1f79ee0f62d', 'a94ff19c-434c-469f-aa8e-b52a16cfa5b4', '421267c1-194d-4403-8dcb-949fed4ea08a', 'a59fb73a-4965-46c5-addb-306fb01ff41d', 'c6843568-b59e-4ae8-b250-8aad31caee4d', 'c326cf56-df00-40a4-908f-764fa35cd6d8', 'ea7e9ad7-2a0a-42e4-a573-54c2e15e6c82', '655adf01-f294-400f-823c-752f50e45ce8', '870d3a14-2c23-4354-b2ff-0a7d352c8361', '6bf96b2e-8464-438a-85c5-16c536b67853', '23654fc0-1000-4735-a309-b0c6f43e63c0', '271da5d7-ad00-4f2d-858a-36374e56c8b1', 'd23effc7-8dd9-4846-8aee-7f498b4013d8', '30706d3d-d9da-4c76-8081-ec4e90daa9be', 'f9e7c4f8-4431-4ff3-ac1c-9767ef7e109c', '4f1f0e56-f058-4c0d-8369-14e3671e2140', '812019cd-a47a-467c-8f97-ad76fb149fc4', 'b51c82b7-4b92-4bb8-84e8-05215faf2787', '631fed74-c0eb-4f28-b822-24dae15e295c', 'dffb8453-cac1-487a-8429-a30933c11fb1', '21cbd1bb-6978-44f5-adaa-8e239d50c939', '71a70717-3571-405b-8829-d8210579a70f', '0154b8bd-bb07-4e46-a184-65f29440bc9e', '28f8fefc-ebaf-47fa-bd2b-623d29e1b135', '73bcb3e3-eaf7-4f6d-ad4b-bff763f02620', '7c450e71-b7b0-408f-8c28-5edfd1d74378', '00e13050-e765-4ef6-8f02-2b2fc52153dd', '161ff37c-2c16-4e99-92aa-03b0451fe023', '53dd6729-f57e-4d5f-8f50-bbd9b229f5ee', '9be43475-55ae-4449-ba24-d41fea8e8f7b', 'e64a9df3-3166-4f02-8db7-7cf58aab4d72', 'b28e7a6b-63a4-4bf4-857b-54ebb3c77f70', 'f1259cfe-bb6b-4d1e-8ed5-e30c64942f88', 'caf74df9-2849-4dfd-8091-f672273fffa6', 'f967851b-1e0a-4409-bc45-dbdfd4ebc5e1', '89cc48b9-e153-4bae-bd4c-9027565d8b4a', '8e1411c2-beb3-4bb1-9474-45aca18ec9f4', 'a2530e01-1c23-46aa-9171-eb524e0a2414', '9546dd02-322c-44bb-8755-8b08bbea31e2', '27dd46b9-745f-47ef-8beb-28e456bc5cd1', '3321a6c1-ce56-4782-94ec-1f79bb5ebf73', '94329132-b43a-4c23-9f7c-c27dc4820267', 'cd991c03-8731-489a-b6c3-06ffe3cb6bd5', '95aecabb-2ca6-47c8-9b51-1c08cc6ee3d1', 'e1f2aecc-6476-4e9d-8d05-99f9159f09cd', '49e8f4a7-2e69-4938-9a24-d26d94af76e9', '67d2198e-f651-4859-801d-9f2b12af4da6', '6e95af62-7eed-4179-b37b-96a8975e997e', '75c4d12c-3589-4caa-83f5-c76df19f5b81', '8e5544d3-00ad-4f14-a0b7-daa77a05740e', '5a9066bc-1d88-48fc-8cd5-47f2a2754e8a', '2b056b76-5d54-4652-b894-e15381c931af', '189229be-97b0-4716-a4e7-7c58b0e59d5a', 'f3c8c16a-4b77-4f47-8ef4-a84b035a251c', '9f1a9d2f-ab2b-4450-bed3-33369ea8f806', '83d0ff58-2dd1-446a-aadc-fa16ab9d82be', '2e900d04-dbe7-4f09-81f3-42f691a9e287', '6589b88d-aecd-4789-b5b9-d7aa65754389', 'dc8761e7-bb20-4578-8639-f5c316761d13', '3749dcee-1650-496f-85eb-a7e499f8f214', 'c017312a-d6ab-4030-8ef6-1d969e6d29de', 'cf1ff785-6e0b-408b-80ce-2e804bf9491c', 'dad9cc6b-489a-478a-96b3-aa02cf2d091c', '26be5b5f-6f2a-4256-90d1-2897b5df3ff0', 'a220aee8-1e83-49e5-ac37-402d943e8829', 'ef108381-820d-4c94-bf70-9f7d7b000ba0', '98a49810-8ad5-4dc8-9d4a-05690fbb5f0d', '5f8b058c-2429-4b4b-b9ab-6ca796ddc330', '8184a8c8-3c7b-49c4-bded-e7f347dc3df3', 'ac12841b-607c-4612-a984-f649984f1928', '32d4c33a-3a48-437c-8b4c-fc5e393f6ac7', '317258c4-cb34-4970-8cdf-f7be12ed4d3a', 'aa9738f0-ea85-4d50-9132-60e874efd6eb', 'c2f4b795-7e76-4a05-a654-25e9ec995df8', '74cbcafd-c9e6-4975-a496-8a20e9006202', '5bbc73ee-4fef-4b16-bd0a-37b7e1f1f714', 'd5170249-9a05-44a1-aa82-645c06a27950', 'ec1109a5-8240-4d4b-b0d4-94b2ce0a38c1', '6d71d1b0-d4eb-4c1f-b21e-260ee8b833fd', '622504ef-261f-4f61-85f8-00ee362fb75d', '35f35785-d1da-40b6-af72-e641f46717e0', 'dc1780bf-7413-439c-bf1b-95861f769956', '2c6f5365-f5e3-4863-864b-87dd8637d9b3', '7e01d2f0-86cf-44fd-88d3-078063efcddc', '11078fb2-9ab8-4f59-821e-44308ff41876', 'c4501119-9d58-4097-896c-783ccb915f52', '67d79935-4a1b-4671-9325-dda15d4cfdb6', 'd0ad4db8-beed-4126-8d06-ff885226b048', 'f26c7f05-f7d3-4129-91e8-09c009919832', '42d8ec40-a6ce-4883-9971-2d2a6fe33167', '9fd156e8-2955-4ccb-8d89-aba81c3bcca0', 'c0fbfd92-1a85-47e5-a8fa-d473e677afe9', 'dbcd5304-bc33-47bb-a43b-90fb4347703a', '4c32ff2d-7bd9-43e5-9dd2-20df1644150f', '338a6727-613d-4f07-89db-8380dbda191c', 'bc0ec0eb-a7be-4344-ac63-54156e6fb229', 'df7766eb-583d-472d-9b84-1429afe474af', '9e1aac5c-a405-47f5-9982-9a0342eab6de', '5d91486e-e468-48d4-9abf-61d56079dabe', 'a8a90d0a-7473-4c83-96a7-bbae14937a11', '8048242e-9240-4cef-9ea7-2d2f71f8b510', 'b975a7f0-4bf5-4174-84cf-a1a18446326c', 'e3707099-3e85-4fd3-965b-5158e23451ec', '5e345063-2876-4607-8c65-a2902df0886a', '1d262e99-8744-47dd-ab0e-5d427ce5f65c', 'f4349a42-5e85-418c-9765-bc2527308438', '642df5b7-d046-4c2a-ac98-9f253cd0942c', '9e813df8-6b0a-41be-85da-b222a3c37f90', '592e3273-13ee-4321-ac2c-611ad9847b11', '01d0cf48-41df-43de-87ea-493ef997398d', 'bc0e0e13-5a0e-4ea6-a6ba-30e936062eda', '8557d912-999d-4177-be01-9579c1a074f8', '43dff1a7-5a52-4640-8477-f429b264a1ce', 'e511e8a2-1ebd-49cb-a897-dc0cfacdcbcf', 'f0958cff-034f-49de-b242-04d806123e53', '9a99f6c1-e170-4508-b02d-7b7e785955ef', 'd07043d7-ea96-4e7d-a17a-a3c96ce134df', '28922672-4f08-4b34-a221-27e655e79311', '0837ded8-4f59-4644-8125-74c2943906b9', '8b8ec642-963c-48e4-8d51-d5672841efb9', '90fa2a75-5fc4-4c1c-921a-eb665a40358f', '988084b0-bf52-45b3-9524-0208becf8fff', 'f4eb8d47-9354-4743-b8c4-70c73c8f574d', 'b4b5d6e6-944f-48a7-82c0-df81b14fb2c5', 'ac909340-faec-4729-93b7-b98e9177f9c1', '4c8c5b55-bc90-4bd9-8568-bcfa36912c33', '86adb02f-ed28-408d-b49d-265233ec993b', '8cc8a104-8817-498c-b7ce-9b8330c418ab', 'f5528c3e-533d-4b71-a77b-c5e9045106b4', 'a6cdc0e9-af90-4807-afcf-13c5584ad244', '2d7c5b09-3dd7-42c7-9f4e-cfcb712bc007', 'c4fa664e-3dde-4816-a7c6-99b25d63cb3f', '941a9605-284d-4251-9023-048887d8c5f1', '57b7d2b4-6fa4-47be-ad57-977f1729fa20', '8f0f308e-dff6-403b-a18c-203371360984', 'a6986380-ce3d-4ab4-8b1c-4f18fedf2a4c', '84bdd45a-c904-4319-b536-3e5f17316429', 'c2915bb6-3293-48f1-9bda-e4bf02b618ee', '8f227b85-40f9-42ac-a332-1435ceaa3086', '8358cc00-95c1-4170-9134-975888dd9436', 'd8866293-fdd6-4855-a1d3-176d68a4d68d', 'b3a87055-fb08-48b9-b8d3-9a52d2853e51', 'f1de7c1b-ba4c-41cf-85f4-8dc90cccf5d9', 'f37e1aaa-e776-464c-939b-bf4c99851691', 'dae863fb-d19f-4a83-b73e-209fbd70c2b3', '91b45de9-1081-4d95-a801-a6de2ad45797', '38cb2d04-2aa0-4887-b16d-02fbed997d17', '8342d12b-119c-4015-a42b-05119a505e80', '67ed6c30-df51-4a74-9463-dc57fa7cf539', '90dc62f7-f3d9-4eb3-9919-df7e767a64a8', '3525bed8-56eb-4019-a9a7-c239ae50767e', '59e0805d-eff5-4c22-ac90-a2179e81dec2', 'e8c36734-c80f-4eba-8ff5-6253769c60b5', '156c3bf6-20b0-4f9f-b55a-c5c1879d4ceb', 'ae7041d0-9172-4432-a1d3-3f1057834a75', '8e1388ec-7a12-4bce-9143-91177135ca99', 'b091b633-d1c9-4bfa-a8c1-daf7625b70d9', '84d93274-3949-4267-9d5e-dc3265e8df82', '84883ab1-78fe-47ae-9528-7e8bc6b4cee1', 'fd89d894-2edb-4a69-9cc5-cade03df58a4', '7d992b4e-9c2d-40f5-87de-a745583312ef', '15c86162-5aad-43c7-a949-9eb74abb2a5c', '615a7ba6-e780-4c09-aa1b-7d61493d7ed2', 'c8c5f749-d5cc-499a-91e4-9e9fce723c5e', '513884c3-17cf-4924-b93c-6ef7854b13fd', 'e90e8152-5e9b-4d11-b71b-ae6623a2dc79', '7bcb6206-dcb9-487b-972b-fc2428f6694a', '625d1f8d-46e9-4e3a-bff2-2cb3b82ffec7', 'a87e00e7-2b0a-4d68-ae75-f77e16e40733', 'ddd9f583-b50d-4720-bb39-a567269d5b76', '2fa44ebf-dc6d-47a5-b51d-3598b9d4c83c', '06f42dc3-faa2-4afb-9b9b-af13c2fad3de', '68f7246d-ca51-4f98-9f98-eb0b49b5e007', '6bc274ab-5746-4ad3-bec8-624c0d350949', '88150c1f-0ddd-475b-b398-e8eaf2857ff5', '3a7872e2-5769-4a24-a502-2b6a5a991d90', '5f2c244e-8cab-49e5-83b7-13134d8e7849', '6e71735e-c19b-4ac5-89fc-2fdf774f6927', '87bda8e7-9758-41bc-86a8-229886b9a2ce', 'e8d8fd71-e740-4aef-b1ce-25ac4302a251', '9fdd6cad-b5e1-44dd-a949-e21bbc0c0b17', 'aa91fc60-050c-401c-a267-a4d579ebe292', 'cba9e473-8c33-4673-8d8b-db72dd43f7ea', 'bbc85105-ebc6-4ad2-b799-94379c59eecc', 'acc47c26-8637-4a2f-b61a-ee8c40b1faa0', '9809f771-bfca-4492-9322-43294ade584e', '9ad224af-8459-448f-bb64-826189fdc18c', 'b3839ade-9534-4717-924e-80b756e85a2a', 'abae9077-b50f-4134-8fe8-9d8ced16aa25', 'b373ae8f-a0a5-4713-8b25-29f15bd0e98f', 'aeea62e4-3029-4904-916c-0be9abce6d03', '3a5c351d-0fab-4da6-ae0d-b9fd9d621e59', 'b5aebfe4-eb54-42c2-8737-24a4cdfd4db4', 'd722e070-f6ae-4e6a-91b9-7dbd8993ff46', '7e3d5920-190e-4e5c-86f1-2e06b6375ca6', 'c103bfe2-29b2-4603-aa79-c28b6e59840c', 'd2e57fed-96a5-4aec-bb3b-aba74c457272', '1dfdd44d-ffa8-4618-8fba-21853b032400', 'd00c306b-fff9-4f32-a5c5-1f72976e61c2', '35e424ff-720b-48b1-af0f-0c0ebe3de848', 'bd0525b8-ccf8-4ca0-b25b-af945edf6e7a', '93f3c0be-d49e-459d-beb0-b1a1cf8bd5d3', '3b127fdd-a83b-4f73-afc7-4de2bb822e00', 'e110da3c-6ebd-420f-a77c-65273d02e1a3', '7c81fede-2d19-44ab-9640-b733cc1f1406', '00db7a37-1e27-45ca-89d9-1e9e7e30ae88', 'e43d3cdc-b8f5-415a-ba27-e7b1fee9c5da', '25ef47e2-daf1-4179-afb4-704744dd9479', 'aeb315c0-2cae-4f54-8146-6170849d3ede', '4a425412-9204-44ea-b45b-13033b85629c', '04c22b51-ac15-4c2b-9de9-8bbaf018ae31', '5c985020-cb0b-42e1-bcde-1b540cc92007', 'fcd5ed2f-1e06-4b39-990d-72f9e20a82ee', '664082d0-7904-4137-b660-5e6111b97011', 'b3c2e9a6-2764-4770-8235-33267fa03374', '81d84806-498a-4d9a-8e1f-9828862c6bbc', '843c7179-baba-4e51-b6cc-184ff72b93da', '6d6e994a-25e5-4859-a8a3-0fd16f9f92be', '789e366a-834a-4898-a39d-c97cc9cfa09e', 'f9acf9f6-1bc7-4ec7-8d62-3509090d0a25', 'befad9f7-9f82-44d9-b456-f020d050585a', '649bd65f-301e-4917-9eb0-d1b2f1b02dc6', 'bccbf5eb-c3dd-48e5-839e-81f319fa41e8', 'b1d03892-415b-4c3d-84dd-e8824d9beb2d', 'a652b787-1117-40d8-8a25-1c6f5d89a3c3', 'ff53f22c-c562-4041-813f-e43107b01aec', 'af193726-ebe3-43fd-bd16-c7bf21548dd3', 'fcfb5017-aff8-4501-b8b3-1f0d9afb500b', '0cb31fe7-db46-4a19-afb4-b500c61e6dd9', 'b53e3510-a185-47fe-8d1d-75ec6633478e', '1ba22fa7-09bb-434f-97b9-a8c8b0fd4bc6', 'de09fe7f-d269-4130-91f3-99e873801d73', 'd1a9da62-8ae0-4f3a-a31b-42fb29c5ca9c', '304a8ccc-6793-421e-9e2f-e52a89de1ea0', 'ec8265d9-7fe2-4207-822b-a55b2886cd03', '1dbb3356-6e54-4ee3-ac39-362c055f72f4', '957d2b12-7c11-4a90-9430-b28031129ce7', '4f336c0e-fccc-4af7-8b46-431919685689', '17de913e-8885-47d4-aa48-e93dfc007346', '2c074aaa-5a17-41f6-841f-89d8c52b8fb7', 'a1d96b07-7ad8-4eb6-beb5-f1055e7a1e3b', 'f47052da-6b2c-4a50-b1a2-0bbf7520355a', '6af532d2-0d85-4897-a5a6-f4a98c176ce6', '05c9790d-b9d3-4383-b3e1-7ead5a060284', '0bb9426a-2f6b-4d42-a01f-cb1e73c7155e', '057fa90d-9da9-4341-94e0-1038d36c0ea0', '1d1b3aed-2b58-4c78-9d55-e2f7fd4180d7', 'dafd454c-9754-45f1-ad25-011407f3da44', '126b8eb0-422e-4996-9ce4-34b99145c0d5', '87078652-b151-4934-b702-32e094917693', '663a512e-6db5-4375-9a3b-1510a3d6ff86', 'd83ab5d7-1d75-4202-9a15-20738396b27d', 'c0e7d842-b2bb-41bc-8b98-84bf34b02ebe', 'e35a934a-ff33-4619-bfb3-57462b962770', '74952c21-3f8b-40eb-8437-8a40c8f5ac24', '109d4edc-6a0c-4d4a-a9bd-84811821cccf', 'eb17026e-4162-46b1-bee5-d0e54f2a1f05', 'ea95f8ad-813e-409f-adbd-64713608a0d3', 'f538176f-ca25-4a07-bbbb-f2fc0e270634', '90cc6e3b-3217-4e54-a408-e29d066180ea', 'd3be77cb-0eab-4134-af99-0ec991cbaaec', 'ff48ab11-7345-48e5-94c1-805b904c08ba', 'f930a839-b43f-455b-8f7b-2d955e72224d', '9460add4-7ff5-417e-a976-a305a9e2a43e', '5c14d428-82b1-4b57-bf89-c621b7daa4d6', 'dd96da8d-f9b3-4fd8-a64b-293c4766501d', '28dbe9ce-0eb2-435f-beba-b304d2d5cea7', '27a05f77-61db-42e5-bc6f-829fec36fab0', '9d2e2d44-d198-4ef2-b39e-957e137db073', '82062a81-ff3b-453e-9911-dfb32a71eb2f', 'd01bd412-3e4e-4e4e-b5e8-9f522557a663', '5b378fc8-95b1-4de5-b329-c19c9299c282', '9f5c3dcf-5dc3-4d1c-977b-b0f1fc963031', '7df23b61-2ea6-4cff-81f3-504964046d7b', '90305021-5e11-4154-a6ea-7e85aaac0926', 'a86760b1-a54c-4a18-b723-c9eff4eff726', 'f5e4adc1-4c5c-4a02-9c79-24a32a3ebd1e', 'd921eff5-f37a-420e-a2e1-fb2884d7d0dc', '3808fac7-4f53-4dca-8d1f-f19426ee2456', '92eefe19-c0d4-4107-aaff-e5b936b7db63', 'e9361cac-7305-48ec-90e5-1754aedb0ea5', 'edf890bd-fe58-4d47-b59f-544f74e65c6a', '7bd5896e-f811-4914-bc32-92a5b83b0bc7', '6820a6bc-5fcd-4962-bb47-a20f0557f0be', '5ed43518-74b7-47e0-b9c9-09e2258673b5', '4fad2d7c-f61d-4fec-aef0-d66934f497ed', 'b30dec6a-0b99-4ad8-8608-5226a3d1ab16', '7e90161c-a053-49ec-8ebe-3b9d338a66af', 'e8a81258-36c9-4a9c-b0c1-2494ef6c2dd2', '36896812-42f2-4ce3-8c12-d2229f41c1a4', '92af978e-b8d0-4ecc-a992-fe37d8279ff4', 'b0ea04b2-ff5a-4f01-a863-c5da977a02e5', 'ed3537c0-6577-460e-9be7-acca056c8003', '91215b3a-7503-4168-b91c-c12dabab6cd5', '5db2f75a-1e6c-47c5-ba9d-dfb29b3dda91', '6e6cc50a-a74f-4cf0-8b14-ec716f648ba1', 'bbcef160-887c-4a95-9ed0-c1dfd9290ff7', '8bdf047a-2ae3-4bf3-97d5-f20986efbce7', 'f726f99c-5555-4074-b6f9-be2015d57e41', 'c5b50466-b05a-474b-9389-71e1a90e09a1', '6634b3f2-0d5f-44e0-91f9-ab86cc5f97e9', 'de86f1d5-1048-46ae-b24c-b9c4299e8d59', 'b9b8ce2c-21af-4e8f-90c2-c40572d34ec6', 'ba7f6254-e47e-4f0a-93f1-73acd46eb085', '2fc292f2-cd8c-4125-9463-c470f1503a8a', 'f128b213-23a4-42a5-96bc-600c2da826fe', 'fc39c22f-f275-4820-8cfe-1d1890a4adaf', '4e203d21-b5b8-4c7b-b30a-f4dfdcd3178d', '153e00a2-4818-4e44-b210-a336b597192f', '5406c776-7b08-4b43-9a19-ac0679bc8eb3', 'dcd876bc-5ac4-4e41-95d8-7cccb3256f36', '9e53875d-eebf-4385-b009-c19bb7e78f65', 'a08c47e9-0540-49d0-b100-67f9d7bff02f', '1f5e2295-d486-4db0-abc3-865393f08085', '20317b94-2170-43b6-adde-56b3d8a5cf41', '64166258-1051-4733-94b6-62506665c83e', '62f8a77d-c7ff-4c57-8ca7-ba72ad345710', 'c14e1569-aed0-48bd-b641-c6f8b31745f8', '343771ba-3a9f-43c8-8b5a-9655675661d5', 'f8fe78a0-5b57-45e6-ad6f-63fe765cf63c', '14f5af61-0948-4ea9-a31f-f61f27cbad26', 'cca80cfe-efe0-4026-b250-c20b6e5cb98c', '5d96abb4-bb14-403d-8ea0-a41e4d2fda67', '1df1db4c-6f96-4990-9a08-100aba1aa1cd', 'c978c93d-855e-419e-b0f6-6f058eb0ff3d', '9d2c8882-0a5c-47f8-ba4d-7aa3a3b8d036', '2a6ab76c-ed95-4d07-a5bd-cd87bf7073b9', '628ae9f3-0c6f-46fe-8a2c-436fbbfcf38e', 'fe529c75-6cc4-4a17-8e11-a624387e4eb6', 'a2c36ab5-f4a8-4f27-819b-b591b2ecaa95', '4d9a9793-5cb6-45bb-9930-47e2dce24d1b', '02c40f15-ee9f-47a8-a06c-2d33fb77fb18', 'a8f4af0c-07bd-4937-aab3-039e73e4a731', '323dd65b-f57c-4212-844a-917ed30ab78a', 'e03273cd-b860-4f7f-b9a4-6b652c1093a5', 'f85a49d5-64ee-4207-9f9e-9e4af000dc72', 'a17df7cd-9046-4aec-ba91-3747d1a57c4c', '628aef07-32ec-4de2-a41c-90973c8baa48', 'faa8b69e-1569-4f75-86b0-1f9d4956acdd', 'a21bb7c2-6cbe-44a6-ba44-124295e1bc00', '76192fbd-7046-4d6d-8e3f-220c7cd85a31', 'fa1c400d-d02a-429c-a8ad-b59d0fed2983', 'c7370fa2-b577-4952-9b82-b1e416b10744', '2f80e8cd-408f-4b66-8309-41087b76ad5b', '6dc86c19-8e1a-418d-a575-2e3cfaa1ff9c', '5d31b97c-feb9-4dc1-9765-3ef3ac530449', 'd5c8531f-3aff-40c5-81d0-94e3bc682582', '27cb7356-4c4d-4493-be2e-0d0ad20f2240', 'b0e91fec-bd20-4796-a37f-b8e26280b173', '45389cb1-aaf4-404b-b690-ad18fece233f', 'e9eab665-e6fb-4e08-8a3d-f7ef385e2d08', '2200ca06-5579-46e1-9909-3d6876ad87ff', '09efe955-2479-4b05-803c-9afb30cdb935', 'a8d310a0-8cc9-4a26-b203-346bb9816483', '364974ef-59d5-44ce-b82d-c87a1ba01d39', '77884521-43b1-4871-b658-9c0a64ecf484', '23ce00a8-4015-43af-8905-47975ebc5708', '1bc3e9c5-d277-4c84-809d-9870dc84c2d2', '8ed39b43-9e83-4ecb-8b1c-07ecbc57cb1f', 'b9696269-48cd-4d46-9f18-21f6ac145b7d', '2cde04cd-89b0-47d2-9e45-aaa3f34096d4', '3389488f-266a-4723-8ef7-d51dca8ee274', '83d5b72f-615f-41ee-83a7-6e7eeda319d4', '491f65f9-a983-4145-88a0-7216438aa53a', 'af9c57aa-761d-48c4-85db-fd8972117695', '1ee651cf-bfd4-4b50-9cfe-599473090146', '6cb505e3-5fba-4338-9580-88843b7844e9', 'e85ebe1c-1d1d-4743-ab75-b2aec470cf94', 'ad0c19ef-ded1-4169-9eb0-c6f599c35a2d', 'd8215e33-815c-4166-8ecc-0f13858ecbb9', '30387778-164a-4252-8d0d-0209dd5ad220', 'b8a7e5a1-665b-4d14-ac70-a2bcb1005d16', '83ca0de0-97cc-4679-a56a-fd0ea8def7f7', 'a4e0ac14-506b-4c32-9e14-ff2c3adbcab0', '7637cb32-ba46-4a41-b7e0-ea537186050e', '9b5f5d9c-897b-45cb-9595-2b023814a91d', 'df1aeb47-08a9-4e6c-9c77-4889b537e028', 'a6d45d97-9cbb-48d5-b58e-8302ce2e12cd', 'a009a251-047d-4c2d-a0f0-4decfb41eefc', 'b565681c-db11-42bf-b2e3-8f55d1bcebda', '6c857fd9-5cea-49a0-a5ec-57ebcda16ef8', 'ffb25dc6-207f-4073-aeed-6380dcfa5a06', '4120d98b-c327-47fb-8edb-2182f84d0a36', 'bfc3609e-7d42-4ead-a816-902b3900b5df', '0e04f824-7fe7-438e-b042-5e37636f61fa', '94f83897-8712-4e37-ab70-e1b8a3fbac20', '6121fb0f-bad3-4ae6-9fb0-4a65ae39df68', 'd615e2ee-8a29-4f2b-9716-02ae1a00506a', 'c2eb9d3c-5c70-4977-99b4-3d70fa647645', '46535f86-8ad8-4b6e-9c1b-34bf5db5f4e9', 'be2333d0-deae-4f79-9403-6dfcc87470b0', '6099560c-46ef-4357-9b16-0af638a2f671', '16022593-1786-4fe0-9a83-a4da2ca2003f', '4dcd4a2f-d1dd-4cfe-bc30-07a70b2a7842', 'ae90d627-227f-4a50-a4da-865384938a47', '9201cfa9-469f-470a-8a0d-7251cf3d1161', '3301ce30-516c-414d-8d2f-7b0f85e9a156', 'e1fd9fcc-e0eb-48c3-ab82-43a2949f65ef', '1ffe7451-3d5e-43bb-a7e7-5e618f5ffeab', '47311d2f-428c-4698-8222-8a7e7b3d46eb', '9492c8e3-de6e-412b-a8f7-268213b9ceac', '40bce6e1-7a34-4878-a649-69e6ef9a00cb', '18fbd4b1-5277-4b71-a3d3-bc84a0684678', '7b32c72f-814e-409f-8d62-468177dca815', '7b13706e-ab5d-4767-8c83-7daee5a3ed75', 'c3d13e21-0209-495e-bbca-c767013f8ac2', 'd7ddfa65-dd20-49bc-b3a2-6f59f782fa02', '1dc34871-a2ff-44e5-92a0-80e9670f5134', 'e1742bf6-097f-4e99-8a98-1bca15ed8a0c', '87737044-1ff4-4046-b008-8dbfb87ff4a2', '15542f50-4d05-437c-8634-e2f70fe1d34b', '2ffc6c37-b63e-4556-b2c4-3513a9ba4958', '78612faa-0b8d-4918-ae20-b3107c63ffd9', '44f82281-75df-4989-bcb4-ca3c7eccb5eb', '0fec6668-1a1e-49cc-b775-ef65e629c0fc', '638904bc-1892-45d8-bad1-0bb26e28c5a5', '82428270-72bd-4b73-a6c0-c86cd8ad8973', 'a8a7f2d4-5b31-47d3-a88e-be8c7ff2a200', 'ab491e1d-7c1a-4b66-b4d5-d570f4503477', '955de2bc-b1a7-4b85-af42-0673a28b27cd', '29c1c0ab-4080-4eea-901b-3719bd988016', '6795c198-869d-4125-96d7-c52904afc512', 'ebe9f1ad-e774-4efd-88a8-da7649383a7b', 'a22b17a4-11cb-49e4-9943-eeea36302a1d', '950a3a10-b3dc-4596-a443-91338ec3a73c', '84f0c495-255f-41dd-8093-3197b5df06d2', '19289144-6cd1-4b35-b7fa-58c6f472f9c3', '46f4d459-b5ca-4ede-b541-3f433c610539', '8e81abdf-b401-4a52-97a1-cedced889085', '96d1abac-ca31-4328-a589-ba70cb874f15', '6288cf33-1d16-433f-8698-1996794bb29c', '82b0f9ba-9104-42a6-ac5b-ca8e515e6d3e', '58939555-6dda-4d41-b63b-cc63db31b063', '8334ee9b-7d28-4b15-b84e-4abe8002941c', '743c53be-d329-4470-8bbc-85a491de0160', 'ace4f96e-7d0d-44c4-80c3-7555dbe4dd14', 'a97ee073-9d13-4a23-adbd-c70d66a1ce80', 'ace246fb-eb46-41f8-8954-49236c3a411c', 'd95322f3-37ce-403d-a910-29bb99cdfc0f', '71c57870-87ee-44e9-b40f-d7ae7b6f9d1c', 'dd5baea1-2240-4408-816a-fb3ce0b6869d', '7b3b1e5e-ec1f-4fa4-90d4-44793bd79816', 'aa550cff-422c-4ab3-b0f4-e2bcb38c2a19', 'fee6d365-e2a6-437e-ab94-f72eeb6b6d31', '83e250d5-8a7c-4890-b8bd-cc09e5c9b120', '7e92b612-85a9-4a63-ab12-6c9a163b6f94', '40a97804-826a-4bd9-9b1f-277b9a6f41bd', '61d719bb-e70e-44b0-bd7f-46e32e04c636', 'a179731e-77cc-43f1-b127-799baa68b085', '648ee628-54a4-4e4b-8124-98aebb10754e', '90920756-79a3-4e08-b127-67a6511a202a', '25f77cf5-c7b7-4c0f-888a-c8b4212c225b', '876a145b-1120-47f2-b8df-973cdf8ca43a', '94df6bb2-5f36-4dbb-bbf5-3c5cdc8f6e2c', 'f07855bb-a844-42d3-9459-5b84c829303e', '48268fd3-fc24-4cf9-8b21-20be6e2a1ad7', 'a2b67130-7632-4920-9e0f-a23ca0517bde', 'cb732032-43f7-448c-930e-c52cf62c1262', '37dc4451-cfa0-4f3b-8d75-8ad3dccbcd09', '12b6fa40-03c4-4c20-98e8-f2b93af61e85', 'fe8d48f4-2328-420d-a34b-0cec9ed9874f', '1f96bcaf-02cb-459b-b73b-307333ad6e4b', '62adc8ff-17b1-4188-9e4b-9beb9fa4a0ac', '74c52691-74ca-41dd-b20c-6d07c5c369d5', 'ad84950b-08ed-41d4-b6ae-ecde55b20cfb', 'c3cc140e-bb15-4d45-a94c-1f3d76457a87', '3ce90a52-a281-4bdc-9d56-ef5476c791a1', 'c8c9bddd-cf49-4754-bb6a-cb60fde23650', '48b35627-253b-46b4-8d3e-fbc5a3367844', '623c1b33-c844-4bb0-8a86-bee0d861c0ee', '89cc642e-cd90-4f55-ad07-69310b61848e', 'fca0c56b-9901-483c-838e-11d813440432', '9e534bfd-36d1-4c1e-9468-27b0669f39fb', '1f98887d-090f-4537-9d24-37def7aafaec', '2ff1dea9-ece3-406d-8f37-98bc67a7f7a4', '0e9a6c65-7d6c-4b3a-b5b4-eeeabacc99e6', '9c5ef1cd-7c98-483b-b111-5922a0a1fd08', '11788d80-c746-45bd-8552-ebf7b007189a', '005eb33d-a5c4-4a92-aa23-8332e77f6a61', 'bec448da-a8d6-4874-8b93-412a0044bbaf', '69747e53-1036-4c55-98d6-4ccb1eb06779', 'de11596f-0b89-46b8-a182-f3a88e664560', 'b6139124-fd3a-460a-a324-094d7b817bc6', '28b59a8c-ea6e-4712-ac88-ed8ec9924ba0', '2ca39ceb-18d6-4899-833d-a23c349ab589', '6f9f7716-ddc4-4018-9240-6c8ad6602db2', 'cd2183e2-ec9a-4e0e-83ed-d43b9077d9e3', '199f57b3-8e91-4ea0-a6d0-9c627523df34', '2ec3e0d9-780e-47e6-aa3e-9088e3cd83e8', '5e046990-a88e-4c19-bdd5-53e557f79c34', 'a0d66f1e-b9ff-40fb-b092-c71ce776ed5d']\n",
            "['0008c8af-0d4f-4998-b185-593b7adc11ad', '009a240f-eb8a-4d6d-b41e-0fe64b8d005e', '00a88096-0819-459c-a436-d4e1feaf9539', '00bc2535-5da2-406a-8450-a4c243665693', '0279f95f-ddab-439a-98a9-7b52a2f1b5a7', '037882f6-b949-41c1-af6b-bb7f637a2358', '037bcf33-382e-4af8-884a-74252fbf49e0', '0380058e-cc25-4fd1-9f7d-07aa6d593ae2', '03f632c6-c419-4ab0-980f-89496315381d', '043584a2-ef84-4cbb-b326-8c412d4c141c', '049b21b3-8a31-458e-a6fe-e75e0d78910d', '05686385-3a5f-4d83-89bb-7aa7ee45176e', '05c993e3-0b6b-417d-bf83-d9e5f04836ef', '0641d904-e3c4-4c87-ac78-814b8dbe97b9', '06ce3ad3-008a-418e-ba97-e2ad79ef3305', '06d55dae-bdc3-47a2-9db2-28c9235a3117', '06ff3c92-2314-40c7-9240-ff9d2f2f1ccf', '08197793-7952-4d9e-bd1a-e4c2c21a918f', '0b2f1a9f-5a51-4643-88b1-9b9a827b5f4b', '0b44702c-e369-4c3a-adc9-89c9bc6b012a', '0b7c89d0-66b3-4f63-9f4d-b41550292219', '0b98b3da-6d66-4c2b-b290-f469df6f5d21', '0c21f661-726a-45d7-8a4f-4feaf87d13e0', '0c28a16c-f5e2-4384-af16-761c713a958e', '0c5da450-0768-4ecc-b844-37c956588e8f', '0d1ab804-204e-4542-9b4a-329a06cd5afe', '0d47f66a-041f-4dff-973d-1bdfae7cd1c9', '0e280d9c-adbf-4832-b742-803c967d8ddd', '0e3cb20a-79b4-461f-a716-88f1eab96f14', '0e5b2d03-d2fb-4a55-b643-de0e8977bf63', '0e8e7527-d12c-4295-a812-6e5c31d3fa51', '0e9ff3fd-6615-4049-aba7-6d492ed58c6b', '0f099309-810a-4c86-b0e0-49600205b85e', '0f2b1efe-07f2-467f-a7c8-50e7da3bb7d3', '0f775b98-bc9a-429e-a5ae-966ec0b05071', '1021876a-b64c-4643-9043-bfc22a233de9', '11050076-6255-4416-a263-29a3506ec4c7', '1161eab7-9709-48d3-9e3d-b3289a9f52c0', '116b037f-9043-4d12-b6f6-211be48505f1', '119bb379-03df-486e-9ea7-093134f23f9d', '1337040c-8c2d-476b-8ff6-481f5d1862cc', '139ad779-8f0c-499f-a03b-ac9f5a7e09b3', '13c48f74-4932-41f6-a1d0-0498dfbd670d', '14479162-efb4-4d94-95dd-8884f386f492', '14528b18-0812-4d58-a4b4-9d683078eee8', '14ae333f-a9da-47de-a6a0-f8d76803875c', '151f7d89-35d7-4a69-ae00-ffab7f3c4271', '16138c47-bd63-4c44-8807-c4161e7c9b7e', '164febc4-28db-4cb3-9b62-87788c65164a', '18633dc1-ad1a-484e-b977-416419cc9af1', '18b0e987-6724-4a18-8b96-4dfc621fe241', '190848ba-23ce-4081-b1f8-7dfdc295d05d', '196f0cd4-dbd2-4a2e-a980-436eeedde04b', '1a5ec88c-307b-4ae8-b6bb-50476405cc70', '1b5760d7-f903-493d-a60e-09c4098b1b50', '1bc37ff7-49d1-4d6e-841f-320a8614714f', '1c012e5b-c902-4189-9f74-a1176ade3c31', '1cc9fd1f-c8b0-4902-98fc-62fd4900eb55', '1dbb0ecd-6b31-4d49-b007-f67d69656443', '1e370782-c707-4e5c-92a0-45eab1ce3282', '1ea53ad9-1ea6-4d84-9241-08abe121c128', '1eb2f053-1048-4cf9-b2de-b3c0cb174f0b', '1f202567-c0b2-42d9-9ab9-d7d06b0c8a22', '1f275ca4-f170-4a4c-b473-1d0ff891f1ba', '1f4d9bb7-0877-426d-b643-9193a001ec01', '1fbbe840-db24-4f50-854a-cbf3e80c6eac', '1fc236e1-466f-4ddc-8166-38441ec45596', '2034a660-a814-4f2b-b2ac-53e8236bd39c', '205bbfb8-adb7-4f81-89da-3017442aa913', '21361b01-74ce-4efe-834b-c64e402d9953', '22464fad-6367-4087-97c5-bd6744b2b569', '2252e4e3-32e3-45ef-8937-a72c289d6b99', '230dd2c9-5ad0-4b54-9261-9df15a2276ab', '23399872-88f3-416b-86db-74c7209cdde7', '2360c734-3225-4337-ab69-fd72c970c6f5', '2414fded-135a-4614-9f56-ea8bbef068c0', '246def80-80ed-454e-9b4a-4fc45d154035', '2486b7e1-9e22-45ed-8729-070d9b2f8f43', '24b393de-217e-40e8-a58e-122baa563934', '254936a0-0e22-496f-8f15-5bf177b76f41', '25eecc09-0920-4766-a42b-acaba2246d6a', '26157892-6c1b-4222-8965-6ab03e995d89', '264ce779-05f3-4a31-85e5-3eb14b49f096', '26ed3e4c-6dc7-4ce5-8abc-3b6461375c46', '27599de6-db56-4359-bfe8-fbd62c2a4dfb', '276c134f-96b5-4dce-a1e7-3a716f1facf0', '27a2f477-e8c4-4f76-9c2c-51cd16b644ad', '27ac7910-1959-4fe7-b29d-4c6e7ce08c71', '27b5377f-bd71-4e37-a9ac-15c30c0a6691', '28048239-c811-4a3c-aa03-e8b312916ce4', '2806a0fd-27df-4e80-a5b8-7c969d59b8a3', '29464f69-04c8-4e36-9278-2ba598e4157d', '296d8a6b-5f1b-4475-a92c-27e5d6f2870e', '29d7757d-a99e-4324-8062-e0459c7ef650', '29e7e516-e4cb-457d-be54-f42ddd5b7d89', '2a06dc3b-1de0-444d-bb53-ad7b191dcc09', '2ab812de-5da1-4482-8873-d6c5ef581330', '2b2b2378-6b2e-4073-8c3f-b46add3ed9d4', '2b7033b6-b184-401c-b8a1-d3838b60ff5d', '2ba6885a-bc32-4b01-b613-2dd167a9be7e', '2bba65f3-d811-44b9-adaf-3b54ad5216fe', '2c14c84e-a5e7-4c11-9d9f-55ff4c219d08', '2ca7af97-1be4-4ad9-b279-d9f2ef1a4398', '2e6381b9-0797-43de-86b6-b6fe40349965', '2e6e43d2-6c72-4301-9ff8-5a2c1e3a901b', '2e91d3e9-d44b-477c-b144-343874f42a22', '2ec253e4-d4c8-4cbd-8319-d5671a6a71a3', '2fdecc35-1928-416a-8890-749eb802e809', '2ffcfc4d-ed59-4b62-9c4c-13b6e1321cd0', '3023b937-e499-4989-bb4e-ce07b75a4012', '30cea9c6-71eb-4cab-841e-9ecbf7af0f8f', '31d96e63-a1b2-4a53-8386-73d9bd5e2068', '31ee01b2-7087-4e06-a71d-59797be38503', '32510a2c-cc9c-4355-b233-83cf5fec90a2', '326b37cc-d2a1-4989-9375-9d5f7c7bfc11', '3301018f-bfe0-442b-ab5e-5d326ccb5503', '3310bb48-8584-4baa-ab4f-7db293946e8a', '33d4a88b-2432-4032-8572-d4ea08d5d76f', '3423ba6a-380b-49ac-b4e6-58523234f583', '34642c58-8f41-45bf-a8d9-eb9f6240a672', '348abeba-c8a2-41f4-a995-9e7352d56df2', '3498cfae-288d-41f9-b84b-1abb8eae1b19', '34d77099-a66d-484d-b8c1-dd5e28790da0', '34f0602a-0a90-44d2-96e6-a017e5bb14eb', '34f43f6b-08a0-4b13-95fc-6067129e90ec', '3507728f-f15f-4f3b-8e81-933a4b0c0217', '35d947eb-098e-4258-9a98-4d40df45ba2f', '372fc0a7-cc68-480b-87e1-ff79ad8a4e4e', '37b1cf19-9493-4945-872a-309314dc01d6', '37bce08f-098b-46cf-95a5-4fa0ce767bad', '38dc8f02-34a7-465d-a10a-f64db0fa2885', '39046129-a5c0-4f17-9aaf-fdb20698381d', '39623d58-2eb5-41f5-84e0-f35ba65272e1', '3a23a354-ce8d-40a1-8f26-7ce9e27d2b63', '3a49af4e-b597-4551-8656-40c66b2a1622', '3ac7aa56-b0b9-4987-b426-d9973440d4d7', '3b2ff8ff-c5a1-4ffd-9da3-70294b261d2c', '3b60bc28-918a-414a-8da7-2af270194297', '3badf47b-4b53-4936-b371-bbfcb1df8b80', '3be5b7ec-0e69-4342-a78c-a08289528d47', '3d7e28ce-49c7-49a8-8993-3d1398fd7ada', '3d8a62a1-73b5-4a72-ab24-197d843ad3cd', '3df8c67c-0477-4973-9042-91073f1b69b0', '3f035bf8-05af-47b7-b027-519fe4e95cb9', '3f7e8275-25d8-4eee-bf7c-dff494334e3a', '3f810e00-f05e-46e8-88dc-5a7c7e95d733', '3fa06bd2-b777-4d7f-8012-ee115d1a2bd4', '4036d810-a983-4db7-ace5-8f21fdfcc271', '40451106-2b0e-4948-8bd2-7f8b87e855fc', '408c3476-d02b-4512-9217-1eeab4e4d28c', '40f58fee-ba36-47eb-8dc3-bd7d14b8042b', '4192e77c-be9d-4d1d-a7f3-bb55dbb03cd0', '41b43bf5-c398-429d-9517-1b5561bc20fb', '41f61459-a5c5-4287-b47c-3b3f2eb3cb78', '433dab9b-c7bd-4cd6-9f4d-ef13b96cfefd', '4351c763-b8ad-404b-b8d2-8353860aabf1', '4445ac41-7acf-4412-bde6-8f37c3ec685a', '447228fe-c89f-48e1-b7c2-9b6edac9399d', '44aa90f5-fc9a-445d-99bc-abfd76614581', '44c2aab5-d905-4b5f-9fb2-8ed7d3bc56e9', '460c2d4c-1343-42a9-893b-c8cd4c146308', '46d05939-72d6-4131-bda4-84e1acebab20', '470997cf-cfa5-4dbc-b4b3-ff6aa050cfe3', '470dd965-6b46-4415-be3f-312cd2c1357e', '475bc9cb-232e-4d8a-aead-ffa595ba9064', '48d5fbe0-ac1a-4844-a925-183a0d31b508', '4904367c-4845-4241-9c3b-10b689ff96e0', '4941d700-e715-4fbc-8a4f-31709d5b2d82', '4a3c19d1-f16a-472c-8fcf-b999f8478c56', '4af3c30b-9de9-4979-a2a3-f0bcc4967fb6', '4b626a79-826e-4dd3-a6f2-d0b7c2f59d1b', '4b6dc15b-37f9-46b5-a98c-2a5b41b74613', '4c11094a-f151-44fc-9705-d248a7aa5b66', '4cc4ac70-69e4-4d63-9470-f6d016ba7282', '4d3dc87b-20f0-4eab-9a7e-d96d3bd3af35', '4e9be86c-ff3f-4434-8422-b33a97901292', '4ede37ed-b80f-47f9-a6e9-62402a48b79f', '50da279f-2167-4ed2-a672-5e2eb0f9d09f', '5124b271-ab96-4596-ba8e-7d5e58d90a53', '51394d15-345d-4f12-b2d3-b71b2b612520', '5140cea7-da24-4c3e-b7d5-7296bfde4905', '526c6218-62a1-4add-b449-f22638c8b440', '526e69dd-35c8-4bd7-93e2-cf010b832044', '5342bcfc-6c45-491e-ad6f-34a3f9a9f043', '53e44730-0919-4363-a774-07f24de18aa2', '541f6461-2cd1-4ef0-9e28-594e129176a3', '54230a12-7936-420e-839c-2000a3a30f18', '5434c7be-4487-4863-b378-f4814e15263c', '54ceeb3d-ffac-4f16-9f42-66e785c1ec8a', '54dbabdf-feb9-471e-b390-019fecedcd79', '54f75a67-81cb-4118-9c57-44542632c26e', '55336a96-30df-4b67-80ee-5f90df0b7949', '568ea6fd-237f-4a72-b8d3-40ff273e089a', '56ec3a77-5b12-41f2-9c0e-c5f36d27be82', '57ac7c4d-1913-4d94-8383-4964bb9c7b94', '588ca9c2-5d49-49ef-807b-f3e9d6b71354', '58cdfb09-af56-4668-a6f1-1db28cfb61df', '5992cd58-c20e-48f4-890b-23bc06e5449a', '59ceca12-1731-42bd-a861-3a0686089229', '59d2b4fc-3890-440d-aa68-59227fa23a7b', '5ad1b1dd-bf9d-4d9d-a133-53965925b9be', '5b124127-ed2f-40fd-b2b9-9b84fd6bcc80', '5b52c5e2-399a-4290-81af-21142637feab', '5c3ea904-df7c-4eaa-947c-416e780ba47a', '5cf151de-840d-47a3-aa68-520f61be50ff', '5d332a88-0c7e-473a-beb1-768099100eca', '5dee805c-b7de-4e1b-bacd-4b915176ac5b', '5e4a13f1-bf4d-4509-b4f7-1630c786f63f', '5e742f29-ca08-461b-8a2e-97dff43ff654', '5f0c4738-7840-4272-a41f-5b85eb51b44a', '5f581788-62c4-4eff-ab35-451727a3abff', '60293189-6327-4de2-8a86-541e17322a4b', '604877ff-cc18-4521-a39e-cdee77d8eeeb', '611ec33e-52ce-46fe-9c98-046f70d54751', '61fa1d2b-e6bc-4778-8af9-c739660d8aa8', '6217e12e-f48a-4a39-a69e-d6f349644f07', '6291a981-26ab-4762-8c51-4dab9a7d6ff4', '6292a080-e740-41cb-a232-9a41c85d2cbd', '635330f9-d880-4117-8199-2b5deec0e107', '64e2a73e-2738-4b24-ba83-a889fd418786', '65462ed3-3e94-4eab-8642-25cec20db1f7', '66034f6c-1cf2-4b69-9911-0a555d49b1cd', '667c0e51-afd4-449b-a937-141dad308b9e', '667f01d2-c0de-4576-b210-c8a45e711c3d', '66adee11-0607-4787-8ec3-78c34dd69109', '678969e8-44dc-44a1-a2dd-22a02627dfa5', '67a2fd1e-056f-428f-8b53-282cc71b6882', '6840771d-8cb9-4d61-aa48-bd45fd9d52d6', '68eb0b46-6fd3-4535-bc4e-473c0bbb157d', '68ee8e8b-6c31-4740-85d7-2cd9f37891f2', '692a740d-afa7-4530-a40c-cec2be9ee0d2', '697ac383-2af2-4e8c-87da-eb0f16ac7c77', '69e63cfa-e947-452c-8e61-3a73e4df8de2', '69ee381c-9cfe-42d7-b6d3-9dca96ed08fe', '6a006dad-4d38-489c-b006-1dd0a3288aea', '6b980222-4ce7-4867-8c39-8a55293e8dfa', '6c4bda44-4b96-480c-b691-00b0122d0add', '6c6d8619-f7ef-4832-affe-20a635e785c8', '6c818a06-2a9f-4b88-8eb2-4d4475071239', '6c830924-b787-43ed-8e81-bc963a8faa56', '6d0c9863-377d-4c99-9f31-3bfb8bc1a0f0', '6d22bf8f-8c3a-4644-b882-42ca67f2a2b4', '6ec6860f-a6d9-49df-9115-16a79cdf7af3', '6feba9d0-efe0-4e3e-80bb-246a20286b34', '7057345a-e059-4ac4-a213-a6cf4be0f95e', '70c82df1-7391-4408-b94b-7ac06eb60607', '716c485c-c4b2-48a3-b4d9-959ec95c1b8a', '71b72ac5-4640-4a16-b2e4-1b67e2e0262b', '723a37ca-bba6-4ba1-b060-cb6ca3245e77', '72819d2b-51db-469f-afb4-8b509ef8737a', '73530850-61d5-44b2-80df-3af08d2a1184', '7485e947-c8f2-4a3a-ac28-3c10dff4144d', '7554a685-716b-45a9-becb-f5e11f4cba25', '76623c29-f525-4ead-9b53-e3110e112b98', '766b9b58-3c77-4c8a-8215-6b8178e5d7d8', '76920084-c9a2-4ee4-a800-62367be3a8e0', '76d162e4-6ac3-45bb-a303-ebab9a7511bd', '776715b1-716b-4681-9c73-5f43b1834d22', '78318819-561f-44bd-a828-658536946918', '792856ae-c02f-4d96-85fb-e9a689d56e5d', '7950b2d5-635b-405e-b414-c593f0fb13ee', '7959c125-fe67-4e2d-9b5a-114d69f53ccd', '79cd513f-0015-4381-ba90-15c35a02514d', '79db92d1-549f-4fe9-9ab7-5169c8304a3a', '7aa5b5b2-a8d9-475d-9a0a-db13b7f84111', '7cb29d35-ffd3-44f2-91e8-37c7a439c589', '7d5756d9-8b53-40e9-90e3-b6bb49e655e6', '7d6897ad-bc35-474b-a621-e96940f081fe', '7d9e678c-df8e-4a79-a973-2356a6eb30c5', '7e4def23-f4e9-4401-b1b8-bed6b6eb14c1', '7fc2a11c-7155-42af-aeb3-6c5d1ef5b7aa', '806833c3-28e0-4a6f-b036-d35d1d6f13df', '8068b94c-cfa6-42ae-b8a7-6c40bc1d080d', '80955d5e-c93a-4bd1-9197-9f76b15f6923', '810a4131-4461-4ff7-805e-29ef6952a94a', '81e3b222-c5cd-42ba-a83c-9ee0fc2d0186', '822f260f-656b-4586-8c48-b256e5163399', '826d9642-a02d-4d69-821a-7c7358b59f80', '82852819-e85e-41a2-8278-7ba1254a9c12', '82ba9288-1471-4cc7-8f7c-9677353fdc7c', '82c9daa4-cf12-4732-bcac-d14513dfca2d', '842b69a7-95b0-4ab2-b5aa-e5262ed46484', '84ff048f-c692-4c39-829d-3f8af579515f', '85a173db-904b-4fc8-8404-5c0f97297ad6', '860ba40f-6c73-4ed9-8ede-6b46e4632899', '864474c3-c357-4da4-bff4-f115da38b918', '8653c2c7-3aaf-40b9-8f43-6454bf8679f8', '868d8a76-2b9e-462d-9347-16fcc604fc40', '87342bd4-3981-46ad-91ef-adad1729529c', '8761b6d5-2503-485e-a895-4d45e40dc99b', '879eba49-0c71-46f0-92cc-83b43bd31333', '87ff3d07-2b43-4afb-b81d-a0cdf4ccc336', '888bc80f-accb-4f77-b044-b9f3d73c7cb8', '88d387f2-bb21-49a9-8084-58e3a58d0ba6', '88e2e04c-46d1-47de-bf06-f53452a47dfb', '8903e4c4-730e-4e12-a7a5-4569b21d295e', '8a44de1a-2edc-48d1-a7a3-4a570b89dd09', '8b4eb18c-a31b-4ca8-a8db-e4cfa9cb76de', '8c362703-a342-4616-986f-5ef4714995b4', '8c430edd-177a-4350-9660-15ff8157576a', '8ce6ca78-200f-456e-809c-6a28d876d149', '8d074e46-e268-4d19-84bb-d2fddc610cc0', '8d887181-3503-4507-8c49-b007b1ba6171', '8ddc0877-6393-4749-a571-63fb2d7f2681', '8de205fc-eaa0-4531-b803-7caeebf2ce32', '8e1f50f2-db5d-4d6a-bb95-a2f66ae8c848', '8f3e8e37-d445-418c-8fb8-868206ea44a1', '8f3fe05c-5322-4766-a1f9-6ae6e1aa017f', '8f473268-8470-4331-a3cb-32abd415e483', '8fe16e58-498c-438d-82ac-270e5b9da51d', '915aa604-939a-423e-aa8d-eba8bd4fe469', '91b8cade-5be3-47a2-881d-d7825d078515', '9204304f-5882-4aec-8ce7-85352ce93140', '9206d609-29cb-4a4e-a110-291a703f55e6', '9264d215-f9b2-4743-bffa-736d817d21f4', '92a638ca-c38a-4894-98ab-7c66a05e96f2', '92f52201-d956-4b53-b054-902f65cd3191', '9337cd6f-9525-4890-b49c-64d6bbd82df5', '93408cb6-680a-4bd9-aa4c-57ce2efcc9cc', '93acbdfb-8d28-4b64-a7d9-c6455408ad48', '93b99f33-7161-470c-98f9-b2cc1c0b0d10', '93d65ae5-be38-48cc-bde3-58511f2c25a4', '93e64df9-2a46-4da2-a037-d4358dbd25e0', '943d7d9d-6851-4637-aa44-7b44b63ea62d', '94b0f217-14fe-4d74-854d-5f7b9762da15', '955ceb13-9b42-48fb-8a5f-7a3c9ac61812', '95a56062-1031-4fa3-a9a8-ffd4bdb5b027', '96251316-c1de-4d70-a72c-d6b829826c1e', '967c0fcb-4fdd-49ac-993e-9ad8c4a6ccb4', '96d4ce4f-998b-41d0-8132-e83299067e7f', '97a12c0b-dcaf-4bff-95c8-3823e43eeb51', '986525d9-c32a-485f-9f5f-728b7eabf990', '98a840e7-93e9-46bc-ac30-d0b8f3973024', '98c4a978-a3b4-4c29-a02d-39ed7324f38d', '996c31fe-44ae-4dca-a6c9-362f14882267', '99c5212b-fba2-4f84-aaef-fde3c96e03c1', '99e38e13-5a5d-448a-8dc1-5db70ba1ae7c', '9a149f0b-203e-4ed9-a179-f2b0cf822d08', '9a51be9c-3e73-4f9d-be67-ff8848dbe868', '9b07e134-000b-4f92-aed9-0a4c186bcc53', '9b1bd4a7-5730-480c-aa08-66ad40c0dd95', '9b7fc538-8a94-485b-835f-5c1f866f06ec', '9c108d05-e485-4c81-870b-e5f964da7813', '9cc87c87-d648-4bce-b10c-eb75412a81a6', '9cea2817-db31-4818-8ac2-54866d718974', '9dcb6a3f-7105-46c8-9961-06e82c3f9d5d', '9ddb01a8-f2fc-439f-b4f5-797d38bedbc0', '9f7cced0-5425-4d7e-ba84-be07e7fd1434', 'a002227c-ab49-4d4b-b7f0-90eddc13b942', 'a04ab1e2-f23e-4b2b-84de-a4fdfacb2c28', 'a089c5c3-b7f3-4691-83b4-b7373e723969', 'a15c5d8d-2f67-4540-ab5e-504e5e2b7d5c', 'a24a2cca-1b92-4119-9c93-b81d34d6ee7c', 'a2592fbf-6bf4-49e5-a4f2-67e4a9f3b182', 'a29a3f7a-89d3-4768-bd81-9c7d944e0be9', 'a2c2bf0d-d325-4108-907a-50693756cd0f', 'a35df13d-c207-4217-9b59-7cadac0811dd', 'a36b3fc3-a902-4386-8289-202634ca9728', 'a4050262-1add-4f71-b448-38a1664e625d', 'a4a1ac15-9c4d-4757-9a07-da49bc76cd21', 'a50f7663-33b0-482d-95ae-63dfb71fe949', 'a5da2829-05bc-4d53-8885-16f322e195dd', 'a62b82c6-ef95-482c-a889-a10262a43a99', 'a729ec76-2f17-4bf3-bfc2-70d5b1988228', 'a7878ed1-62f0-46be-b25b-4a6a99a3a3d5', 'a7c2bed2-9623-4f6d-b866-3044c745ced6', 'a7eb063c-ce70-498b-957b-e9363471fd15', 'a80b6700-7b91-4203-8643-f2211a18073e', 'a83f9d1f-5293-4888-972e-7a4f09956001', 'a875f321-1e4c-471b-a7c2-96365c37846f', 'a8c61164-fef1-434a-8260-13a747f990fe', 'a9207c74-5e0e-4361-98b1-f8b08cbc13f2', 'a936a8ad-37d2-4816-8eed-3ade87e0fede', 'a9a35016-a598-4516-a890-6021cde6d084', 'a9c20b15-c88f-49a0-aa15-21f37ec14816', 'a9ed0537-ea5f-40f8-a041-f55496246ac8', 'a9fd75f0-7fd4-489d-a508-ed21109be276', 'aa69107d-35a0-475c-b4a2-2f966251881b', 'aa85e313-f5e7-4078-8215-bc7ae4c5f385', 'aa8e5b75-51b7-4470-b8dc-40ef260d8d3a', 'aae078c7-17c2-4644-a6d6-410bdc497400', 'ab14af6b-f71c-4c14-be4e-5d063a546de1', 'ab40ce82-69bd-4a62-8ad5-e187e83d1171', 'abb1f57f-4c86-457e-8b6c-c974dd2f51dd', 'abfbaa2c-e13c-46a6-b6ea-644ddf4f5fe4', 'ac654f45-723c-4e9d-9485-d32ac8745b5b', 'ace4bcb4-fbf8-436b-8c79-226c2b9c29ee', 'ad7385b1-af0d-4d2b-a781-35a49cbb162f', 'ad761067-801c-4159-8565-a760cd4fa577', 'ae181a9a-269a-4dda-83a4-d7a6d572db5b', 'aedf3d0a-2ec1-4ff6-bf39-d552cb27d603', 'af9e3a08-9b54-443f-b44c-efd48296cd03', 'afaf54e9-f3bc-49c4-a17a-29d8bf1b2501', 'b1d82251-79fe-47f0-bdc3-e62f722fa887', 'b1ee64b7-d43d-43a5-889f-dfd790c77b90', 'b2a565d2-3cf6-425d-920a-cdca8774231b', 'b2b8e304-0d38-40ee-ad77-23c930a7b60b', 'b2c777a9-b84e-468f-95d2-3e7ee40c29f6', 'b38667b2-3dbb-4f42-8aa8-2370d1333e8b', 'b40defc8-6add-4ae0-9e44-d82c3934d8c8', 'b44e9736-1b17-4c29-b117-79a81e3ebc4c', 'b48af84c-f37d-4a92-bb6b-9e7bd38da27a', 'b51406d8-dd4f-4718-89ba-fe5e7b985781', 'b555449a-33e8-40a6-a0ce-ddaa2d4b4292', 'b691cb10-cf26-43b2-b3fb-c3ac31d54689', 'b6b8d0a2-dac0-412e-895f-ada0139574c7', 'b6f3b016-fb08-4c92-9ed8-613ae65339df', 'b6fc25ae-050d-41a4-bdb7-f8773e88a0d5', 'b75161f6-dd6c-4bc3-b5e1-62d35505d6b8', 'b8225d1e-1e7f-49f8-b74f-03e43cf4f26e', 'b8300955-8e61-44b1-8343-046fccb292b2', 'b85d024f-0038-419d-b9c3-ff7549b0a6ea', 'b8d9b8f3-9ca2-423b-93b1-3c4bb360b850', 'b993cd3a-5fc5-438a-a6ce-a24932a1bb66', 'b99432c3-ab6d-45b5-b976-9d8a9a1d8071', 'b9beed84-cafa-4526-a389-b16ed625d3c8', 'ba469228-d0eb-4592-9da7-3d8e57ea3236', 'bad7ec4c-0b01-4183-9964-400e49d4e1be', 'bb24edc3-461c-415e-abea-f92773c7709a', 'bbee68e9-074a-4046-b2b6-5fc71b2c3203', 'bbfca5be-d18b-4169-b893-e050f25db090', 'bc81b986-b1c2-4504-9b21-dc452093ddbf', 'bc8ccb88-b330-4492-8867-9092e15f2530', 'bd15e065-614c-4a09-8feb-a6ba5693b048', 'bd60a28b-902a-4887-9fa7-f7d376458f64', 'bf7c1d06-77a0-40ba-9236-f91b2e3a3aa0', 'bf7d4a30-df01-4ba3-8b6b-9660f889ce28', 'bf86f9cf-82c1-4071-a66e-933447bb410e', 'c0026351-4b1f-4975-acd2-2b53a1e20628', 'c140e726-844f-497d-a3fa-5c67dfe92b9d', 'c1cd942a-fbc2-4000-b9e1-b455613c4b72', 'c242b94c-734e-4b02-869d-4dba16a99b7a', 'c24fe9ab-7fb6-49d1-893d-ba7d88329450', 'c29ce7e2-9c1e-498d-b1f8-7800a02f27cc', 'c2aad23c-102e-41b0-bed3-3d24826887bd', 'c306445e-be0a-4d60-8a37-2108376aa7b0', 'c362e028-ca1a-4064-bac9-fa010a49858b', 'c41f9136-d23d-494b-8fb7-a68d5a921c89', 'c505fc86-f7a1-4249-9fd5-4d9ea3fef023', 'c628ab1b-598a-4bf5-b470-bc0103376d1f', 'c63ffc84-b484-4ad3-bf5c-1a921ed6c350', 'c68b68be-3331-48fc-9318-90180bac6117', 'c6b84311-dba3-4d41-ba5f-1b8dd7376343', 'c7419cf2-08be-4737-a91d-5e15a414e3da', 'c7a1fd9d-4167-4b8d-aa8a-15e879fc42d9', 'c81f04ba-6b40-481b-88e3-0ad4054cce39', 'c896d73f-1445-48b9-9d56-6103511010c5', 'c917a58c-4c89-42bd-b936-4b32d79573cb', 'c9190e8f-7f53-480a-ace6-b861c8851375', 'c95bf835-3b55-4c51-a198-8e137c8b4c71', 'c9a099b6-2a49-445d-b4ab-e964b6a5b5f4', 'c9b1f875-4d69-4c14-89c8-006d562af7b2', 'ca077851-b4b3-4220-9cdc-3fc21f4eb7f8', 'ca482062-2e39-4fe3-9f9b-9bad3482ae73', 'ca64a7d2-2f0b-4908-a9fc-704f6f570ac4', 'caf66801-38f0-47e6-91c2-6f141cbcac34', 'cbe5b67b-5b85-4204-8087-273a1d06440f', 'cc42a0b3-5597-49c3-8769-2ad3ec759f8d', 'ccb00be9-c5f6-4e25-b7be-1ce4349da616', 'cda29553-f98b-46af-9556-7a970d7ed2cc', 'ce0c1d68-b19a-4ebb-bbbb-604999adaa93', 'ce742aa2-20c4-47af-ae76-7b0e8df4aee4', 'ce7739d0-e6bd-4516-9c56-01a2f3a0b62a', 'ce97453a-322e-4e01-b57b-d708c07958ac', 'cef5dec1-1eec-4f07-91ed-74802d364f6a', 'cf26f77e-d9fd-490e-af07-004aa4238eae', 'cf3da961-6b67-4bdd-9858-1476c28aedc4', 'cf650d54-91ee-4595-8f45-120bee42db82', 'cf6cf2a3-b385-4ced-934e-5d02cfc1fafc', 'cfbec946-d14c-40a7-a6b5-001294fb9387', 'd02ffe40-6603-4934-809b-ff22a4305db8', 'd0efac18-aff4-4c8c-a0e0-56223b7d95a5', 'd159528a-56fe-417c-bfc0-59b8ce236983', 'd1917f67-7822-4883-935c-f37ffca4a81a', 'd1e9fc9b-e44f-499e-a6bf-7e00413515f1', 'd24a47a8-2327-4670-8472-296d7a725575', 'd30c588c-1d69-480a-86ed-2bbf6dbbec94', 'd32f5090-9d2b-4918-983b-686cf848db1a', 'd396d08e-df66-40c4-a3c3-97e86d94626b', 'd3db9a80-1614-44ca-ac39-bbfed96e37a5', 'd3e6ac62-d7a7-42d1-9810-66951d55bceb', 'd44e630e-01e9-4f41-bfb2-c011bed49934', 'd4ac000f-8caa-4fe2-af36-87a5af9d1f7e', 'd4cd0084-92c7-4e11-9ca3-16a5715136e7', 'd53efea0-9b27-488e-a14f-bb753676d390', 'd54cd3b1-adae-4b7f-973b-38a136ea081c', 'd6398300-a595-47c4-a0c9-fb3144201669', 'd76b59c2-9c8b-49d0-a1b6-33beaabde315', 'd8cc0acf-bb30-4016-ba95-ac57552d87d7', 'd9496734-2a2d-4bc3-9b83-21cea8ecaa83', 'd9dab476-1597-4fe5-8449-a1be9a18d477', 'da75825f-d179-41d4-b82e-93efdbf023fc', 'da9caa28-58a0-4c21-b333-21e707af5c09', 'db3b0c32-5d99-4998-b107-5634f77a9580', 'dbb6592e-39e5-4045-b6ef-b03149f588f8', 'dd0543eb-49fb-475a-876f-6b1017eef84a', 'dd4a4863-db1a-4a7c-af56-31cca2c65538', 'de362d1a-5f67-4b7b-89ff-90e4ce913c49', 'de90cf84-902d-4f80-b74b-171b5a6978a7', 'dea5efcd-1d01-4267-a1e4-b688fc99f479', 'df8e1838-a6b4-4d81-a454-0c7d05fa2ee3', 'dfccdc9a-907c-4b41-85aa-10d01dec8800', 'dfeb36d0-cbcc-4acd-9063-3040e43af50a', 'e0780704-3675-414a-a176-bbd2d662cbf6', 'e0b91164-14b9-4bd9-a5d0-8be576dcf15f', 'e0bc37b0-d1d6-47d2-9782-444024c3c5bd', 'e0d9c498-ab9d-4b8a-8302-4aefbbb63309', 'e108c4d6-f634-45a6-bcb1-a5e817093f00', 'e190e13a-e908-4de5-8aa2-6e660f1bda49', 'e1f9452e-66ac-4eda-92f1-e8786e54a728', 'e221ffa9-ffea-46d8-8fa4-16c8c401ffd8', 'e3ef4e34-5e01-4d5c-9a12-3e02970910d8', 'e4028928-ebcc-47d4-a9e8-f55882699046', 'e4944d94-6a1b-4839-964a-1e950e1de92f', 'e555b79f-505d-4b4d-a6a2-79a8ae5e5208', 'e5cd27a9-360a-4b2c-8ec9-864f9b82d237', 'e63858d8-93ab-474d-baa3-2a14b3fcdf62', 'e697387f-9686-49ac-8d08-8124ed95b63a', 'e6b0c318-bec4-4e44-a6f7-ad63f74ed23e', 'e74e02a9-6c62-4deb-bf48-8be4ae96de8e', 'e7d08aa9-88dc-4f22-ad67-a7d15e5c0463', 'e87f96d5-6dec-460a-943f-7969edb25252', 'e8cb45f7-b480-4256-8a9e-73d10781f44e', 'e8d24c69-2750-4181-b29f-837a1e7d7f9a', 'e9b5bf7a-f933-446a-ba7f-759db7c41f22', 'ea1c9d42-9e0d-4469-bb53-c225a96ff63a', 'ea45890c-ce54-4096-8fce-55ac7a7e0a81', 'ea6fe521-2377-456c-b5bf-241c7f44f92b', 'eab76e3a-d124-4ca4-96b1-9025918ad0b2', 'ec079f87-7ae7-463a-85f1-f3c4034f521e', 'ec17b065-717f-4a22-a168-0b0fae736094', 'ec4d339a-ab8b-4742-bc25-7e65264c8f6b', 'ecc70afb-cddd-43f0-bdf0-1d8fb43f0358', 'ed0ef4e7-3d84-4201-adfc-c1e1f5173463', 'ed7d6f80-8aa9-4729-beb7-f184f0e6293e', 'ee027662-5258-489a-b97d-532a97c28a23', 'ee395d7f-8c84-437c-8069-c02bf8dcd196', 'ee607dfc-13d1-4481-a4f5-7931a47cf7c5', 'eec9192d-2ef3-4453-a07b-2e351c0e736d', 'eef27d63-f68f-430e-bbd4-5c8c2cbcfc3b', 'efb316ce-72a5-4ee9-b209-dfe1b5d943be', 'efbaebd7-ba8a-46d3-a151-1f84f6f36e7f', 'f0f9839f-1824-4d26-87f9-147e10bc3c99', 'f1911472-fa55-4735-8d50-4a20a80ec971', 'f1b36577-ace3-4cc8-8dd7-d11d47c74b83', 'f1f9438c-720a-4c01-9228-2d58a6fb8967', 'f2b1793b-8316-46da-9ec1-c34883829829', 'f2cba1a5-3881-45e5-80f5-a08b3eb8290c', 'f3468035-1879-4cf7-8766-3aa4cebb194c', 'f382dcef-a814-4af2-9c59-574d2ea2157f', 'f3aef9b2-ed9e-4cdb-bf1b-bee213508266', 'f40b8ad3-2b4a-43dd-830d-5fc8de8e74b9', 'f47218ed-d321-4890-a8c4-5e0f1ae970c9', 'f4a6ad1e-156a-4eb9-ab8a-0c1801e22ce3', 'f4ca8e94-61f1-42d9-92ff-f7e538700126', 'f559d0cb-51b7-4f67-b4cf-830a888d2af0', 'f5fa5ae1-dacc-4991-a59b-80f5989111b3', 'f6f22014-a2e8-4076-920e-aaf093df79ee', 'f6fc2bf3-0172-4768-a265-e663a6c4929b', 'f75d8e00-91c1-4563-be16-9f99f2c186ae', 'f80fd9c3-e516-4272-a843-e9bb0539b0c0', 'f8c28769-d1b0-4ecf-9900-7bc3c0bf2178', 'f8e9c9a8-6f6e-458f-8a48-3ecc40590a10', 'f930c4a6-51ef-44db-b76b-8d5794bcc6fc', 'f9fdee03-80ea-4c5b-8b49-37783ad340b8', 'fac02de0-5c3f-4639-b729-6861b3a30f65', 'fc4c2ca1-ac76-4706-b7b7-1dbd00fb863f', 'fd38a596-38ca-4250-a0a5-bb19a4757485', 'fe6e417d-618b-4e18-90a4-e35b5bad82be', 'fe78b0c2-4b5d-4aee-a834-9c7731ace2e9', 'fe993e00-6b64-4e67-8b3b-501955d8de0a', 'ff0373ff-c1b6-47aa-b54b-1beef99f1339']\n"
          ]
        }
      ],
      "source": [
        "# store.mdelete(list(store.__dict__['store'].keys()))\n",
        "# vectorstore.delete(vectorstore.get()['ids'])\n",
        "print(list(store.__dict__['store'].keys()))\n",
        "print(vectorstore.get()['ids'])"
      ]
    },
    {
      "cell_type": "code",
      "execution_count": 17,
      "metadata": {},
      "outputs": [],
      "source": [
        "# Add texts\n",
        "doc_ids = [str(uuid.uuid4()) for _ in text_summaries]\n",
        "summary_texts = [\n",
        "    Document(page_content=s, metadata={id_key: doc_ids[i]})\n",
        "    for i, s in enumerate(text_summaries)\n",
        "]"
      ]
    },
    {
      "cell_type": "code",
      "execution_count": 34,
      "metadata": {},
      "outputs": [],
      "source": [
        "# retriever.vectorstore.add_documents(summary_texts)\n",
        "# retriever.docstore.mset(list(zip(doc_ids, unchunked_list)))"
      ]
    },
    {
      "cell_type": "code",
      "execution_count": 4,
      "metadata": {},
      "outputs": [],
      "source": [
        "import pickle\n",
        "\n",
        "def save_to_pickle(obj, filename):\n",
        "    with open(filename, 'wb') as filehandler:\n",
        "        pickle.dump(obj, filehandler)\n",
        "\n",
        "def load_from_pickle(filename):\n",
        "    with open(filename, \"rb\") as file:\n",
        "        return pickle.load(file)\n"
      ]
    },
    {
      "cell_type": "code",
      "execution_count": 5,
      "metadata": {},
      "outputs": [],
      "source": [
        "import os\n",
        "directory = \"./datafiles\"\n",
        "os.makedirs(directory, exist_ok=True)\n",
        "save_path_summary=os.path.join(directory, \"summary_texts.pkl\")\n",
        "# save_to_pickle(summary_texts, save_path_summary)\n",
        "save_path_docstore_data=os.path.join(directory, \"docstore_data.pkl\")\n",
        "# save_to_pickle(list(zip(doc_ids, unchunked_list)), save_path_docstore_data)"
      ]
    },
    {
      "cell_type": "code",
      "execution_count": 6,
      "metadata": {},
      "outputs": [],
      "source": [
        "summary_texts=load_from_pickle(save_path_summary)\n",
        "save_path_docstore_data=load_from_pickle(save_path_docstore_data)"
      ]
    },
    {
      "cell_type": "code",
      "execution_count": 12,
      "metadata": {},
      "outputs": [],
      "source": [
        "retriever.vectorstore.add_documents(summary_texts)\n",
        "retriever.docstore.mset(save_path_docstore_data)"
      ]
    },
    {
      "cell_type": "code",
      "execution_count": 38,
      "metadata": {},
      "outputs": [],
      "source": [
        "user_q=\"Give me the best feature of Yamaha bike?\"\n",
        "retrieved_query_vectorstore=retriever.vectorstore.similarity_search(user_q)"
      ]
    },
    {
      "cell_type": "code",
      "execution_count": 39,
      "metadata": {},
      "outputs": [],
      "source": [
        "doc_id1=retrieved_query_vectorstore[0].__dict__['metadata']['doc_id']\n",
        "doc_id2=retrieved_query_vectorstore[1].__dict__['metadata']['doc_id']\n",
        "doc_id3=retrieved_query_vectorstore[2].__dict__['metadata']['doc_id']"
      ]
    },
    {
      "cell_type": "code",
      "execution_count": 41,
      "metadata": {},
      "outputs": [
        {
          "data": {
            "text/plain": [
              "[{'text': '(ae 4', 'type': 'Title', 'page_number': 5},\n",
              " {'text': 'DP,', 'type': 'UncategorizedText', 'page_number': 6},\n",
              " {'text': 'i i) a', 'type': 'Title', 'page_number': 6},\n",
              " {'text': '+', 'type': 'UncategorizedText', 'page_number': 6},\n",
              " {'text': 'UBMPE1E0.book Page 5 Monday, August 7, 2023 9:58 AM',\n",
              "  'type': 'Title',\n",
              "  'page_number': 6},\n",
              " {'text': '“>', 'type': 'UncategorizedText', 'page_number': 6},\n",
              " {'text': '$1 @',\n",
              "  'type': 'Image',\n",
              "  'page_number': 6,\n",
              "  'image_path': '/mnt/c/Users/hryad/Desktop/iitm/Knowledge Graph LLM/DocBot_Yamaha/figures/figure-6-3.jpg'},\n",
              " {'text': 'WY', 'type': 'Title', 'page_number': 6},\n",
              " {'text': 'UBMPE1E0.book Page 1 Monday, August 7, 2023 9:58 AM',\n",
              "  'type': 'Header',\n",
              "  'page_number': 7},\n",
              " {'text': 'Introduction', 'type': 'Header', 'page_number': 7},\n",
              " {'text': 'EAU10103', 'type': 'NarrativeText', 'page_number': 7},\n",
              " {'text': 'Welcome to the Yamaha world of motorcycling! As the owner of the YZF1000 / YZF1000D, you are benefiting from Yamaha’s vast experience and newest technology re- garding the design and manufacture of high-quality products, which have earned Yamaha a reputation for dependability. Please take the time to read this manual thoroughly, so as to enjoy all advantages of your YZF1000 / YZF1000D. The Own- er’s Manual does not only instruct you in how to operate, inspect and maintain your motorcycle, but also in how to safe- guard yourself and others from trouble and injury. In addition, the many tips given in this manual will help keep your motorcycle in the best possible condition. If you have any further questions, do not hesitate to contact your Yamaha dealer. The Yamaha team wishes you many safe and pleasant rides. So, remember to put safety first! Yamaha continually seeks advancements in product design and quality. Therefore, while this manual contains the most cur- rent product information available at the time of printing, there may be minor discrepancies between your motorcycle and this manual. If there is any question concerning this manual, please consult a Yamaha dealer.',\n",
              "  'type': 'NarrativeText',\n",
              "  'page_number': 7},\n",
              " {'text': 'EWA10032', 'type': 'UncategorizedText', 'page_number': 7}]"
            ]
          },
          "execution_count": 41,
          "metadata": {},
          "output_type": "execute_result"
        }
      ],
      "source": [
        "retriever.docstore.store[doc_id1]"
      ]
    },
    {
      "cell_type": "code",
      "execution_count": 42,
      "metadata": {},
      "outputs": [],
      "source": [
        "def generate_output(question):\n",
        "    formatted_input = f\"<s> <INST> {question} </INST>\"\n",
        "    output = llm(formatted_input,repetition_penalty=1.15, max_new_tokens=3000)\n",
        "    return output\n",
        "\n",
        "# def prompt_input(user_q, retrieved_info1,retrieved_info2, retrieved_info3):\n",
        "#     prompt_text = \"\"\"\n",
        "#         You are a helpful, respectful and honest assistant. The user is asking about the given question.\n",
        "#         User Question:{user_q}\n",
        "#         Information1:{retrieved_info1}\n",
        "#         Information2:{retrieved_info2}\n",
        "#         Information3:{retrieved_info3}\n",
        "#         The information provided to you is in the form of a list where each element in the list is a dictionary containing the information having text, page_number, and type.\n",
        "#         Prompt Explanation for LLMs:\n",
        "#         Tasks:\n",
        "#         Task 1: Based on the provided information, generate a concise and accurate response to the user's question.\n",
        "#         Task 2: If applicable, locate and provide the path to the closest image related to the discussion from the list.\n",
        "#         Task 3: provide page number from which the text is taken.\n",
        "#         Instructions:\n",
        "#         Use the information provided to craft a response that directly addresses the user's question.\n",
        "#         If there are multiple relevant sections, prioritize the most pertinent ones for the response.\n",
        "#         Ensure that the response is clear, coherent, and free from ambiguity. Try to answer interactively \n",
        "#         If an image is available, provide its path only if it directly relates to the user's question or enhances understanding of the topic. Suppose an image comes after a text that you are using, you have to return its path.\n",
        "#         give the output in the following json format: output: <your-output>, image_path:<image path for closest image or just none if it is not right after the text you have used>, page_number: <the page number fetched>\"\"\"\n",
        "#     return prompt_text.format(user_q=user_q, retrieved_info1=retrieved_info1,retrieved_info2=retrieved_info2,retrieved_info3=retrieved_info3)\n",
        "\n",
        "\n",
        "def prompt_input_impg(user_q, retrieved_info1,retrieved_info2, retrieved_info3):\n",
        "    prompt_text = \"\"\"\n",
        "        The user is asking the given question. \n",
        "        User Question:{user_q}\n",
        "        Information1:{retrieved_info1}\n",
        "        Information2:{retrieved_info2}\n",
        "        Information3:{retrieved_info3}\n",
        "        The information provided to you is in the form of a list where each element in the list is a dictionary containing the information having text, page_number, and type.\n",
        "        Prompt Explanation for LLMs:\n",
        "        Tasks:\n",
        "        Task 1: If applicable, locate and provide the path to the closest image to the possible answer to the given question from the information list.\n",
        "        Task 2: provide page number from which the text of PRE TASK is taken.\n",
        "        Instructions:\n",
        "        If an image is available, provide its path only if it directly relates to the user's question or enhances understanding of the topic. Suppose an image comes after a text that you are using, you have to return its path.\n",
        "        give the output in the following json format: image_path:<list of image path for closest image or just none if it is not right after the text you have used>, page_number: <the page number fetched>.\n",
        "        You dont need to output anything other than image_path (none if no applicable image found) and LIST of page numbers.\n",
        "        I DONT WANT ANYTHING OTHER THAN THE JSON DICTIONARY IN THE OUTPUT. Example output 1:\n",
        "        image_path: [], page_number: []\n",
        "        Example output 2:\n",
        "        image_path: [/mnt/c/Users/hryad/Desktop/iitm/Knowledge Graph LLM/DocBot_Yamaha/figures/figure-188-307.jpg], page_number: [188, 312]\n",
        "        \n",
        "        \"\"\"\n",
        "    return prompt_text.format(user_q=user_q, retrieved_info1=retrieved_info1,retrieved_info2=retrieved_info2,retrieved_info3=retrieved_info3)\n",
        "\n",
        "def prompt_input_para(user_q, retrieved_info1,retrieved_info2, retrieved_info3):\n",
        "    prompt_text = \"\"\"\n",
        "        You are a helpful, respectful and honest assistant. The user is asking about the given question.\n",
        "        User Question:{user_q}\n",
        "        Information1:{retrieved_info1}\n",
        "        Information2:{retrieved_info2}\n",
        "        Information3:{retrieved_info3}\n",
        "        The information provided to you is in the form of a list where each element in the list is a dictionary containing the information having text, page_number, and type.\n",
        "        Prompt Explanation for LLMs:\n",
        "        Tasks:\n",
        "        Task 0: Based on the provided information, generate a concise and accurate response to the user's question.\n",
        "        Instructions:\n",
        "        Use the information provided to craft a response that directly addresses the user's question.\n",
        "        If there are multiple relevant sections, prioritize the most pertinent ones for the response.\n",
        "        You dont need to output any image or image path, or any page number. Just output the text which answers the user's query on the basis of information provided to you.\n",
        "        Ensure that the response is clear, coherent, and free from ambiguity. Try to answer interactively.\n",
        "        \"\"\"\n",
        "    return prompt_text.format(user_q=user_q, retrieved_info1=retrieved_info1,retrieved_info2=retrieved_info2,retrieved_info3=retrieved_info3)"
      ]
    },
    {
      "cell_type": "code",
      "execution_count": 43,
      "metadata": {},
      "outputs": [],
      "source": [
        "# prompt=prompt_input(user_q=user_q, retrieved_info1=retriever.docstore.store[doc_id1],retrieved_info2=retriever.docstore.store[doc_id2])\n",
        "# output=generate_output(prompt)\n",
        "prompt_impg=prompt_input_impg(user_q=user_q, retrieved_info1=retriever.docstore.store[doc_id1],retrieved_info2=retriever.docstore.store[doc_id2],retrieved_info3=retriever.docstore.store[doc_id3])\n",
        "output_impg=generate_output(prompt_impg)\n",
        "\n",
        "prompt_para=prompt_input_para(user_q=user_q, retrieved_info1=retriever.docstore.store[doc_id1],retrieved_info2=retriever.docstore.store[doc_id2],retrieved_info3=retriever.docstore.store[doc_id3])\n",
        "output_para=generate_output(prompt_para)"
      ]
    },
    {
      "cell_type": "code",
      "execution_count": 44,
      "metadata": {},
      "outputs": [
        {
          "data": {
            "text/plain": [
              "'Give me the best feature of Yamaha bike?'"
            ]
          },
          "execution_count": 44,
          "metadata": {},
          "output_type": "execute_result"
        }
      ],
      "source": [
        "user_q"
      ]
    },
    {
      "cell_type": "code",
      "execution_count": 45,
      "metadata": {},
      "outputs": [
        {
          "data": {
            "text/plain": [
              "' Based on the user question \"Give me the best feature of Yamaha bike\", there is no direct text answer in the provided information that specifically mentions the \"best feature\" of a Yamaha bike. Therefore, I cannot provide an image path or page number for this question. The output will be:\\n        \\n        image_path: [], page_number: []'"
            ]
          },
          "execution_count": 45,
          "metadata": {},
          "output_type": "execute_result"
        }
      ],
      "source": [
        "output_impg"
      ]
    },
    {
      "cell_type": "code",
      "execution_count": 46,
      "metadata": {},
      "outputs": [
        {
          "data": {
            "text/plain": [
              "'  The best feature of a Yamaha bike can vary depending on specific models, but many riders appreciate the advanced safety systems like the YRC (Yamaha Ride Control) which optimizes power distribution based on road conditions and traction requirements, providing increased confidence and control. Additionally, regular maintenance such as checking engine idling speed and adjusting valve clearance are crucial for optimal performance and longevity of your Yamaha bike. Tires should also be maintained in good condition and adjusted at appropriate times to ensure safety on the road.'"
            ]
          },
          "execution_count": 46,
          "metadata": {},
          "output_type": "execute_result"
        }
      ],
      "source": [
        "output_para"
      ]
    },
    {
      "cell_type": "code",
      "execution_count": 53,
      "metadata": {},
      "outputs": [
        {
          "name": "stdout",
          "output_type": "stream",
          "text": [
            "['figure-188-307.jpg']\n",
            "[]\n"
          ]
        }
      ],
      "source": [
        "import re\n",
        "output = \"\"\"[\"/mnt/c/Users/hryad/Desktop/iitm/Knowledge Graph LLM/DocBot_Yamaha/figures/figure-188-307.jpg\" \"\"\"\n",
        "image_path_pattern = r'figure-(\\d+-\\d+)\\.jpg'\n",
        "image_path_match = re.findall(image_path_pattern, output)\n",
        "images=[]\n",
        "if len(image_path_match):\n",
        "    for ele in image_path_match:\n",
        "        image_name=\"figure-\"+ele +\".jpg\"\n",
        "        images.append(image_name)\n",
        "page_number_pattern = r'\"page_numbers?\"\\s*:\\s*\\[([0-9\\s,\"]+)\\]'\n",
        "page_numbers_match = re.search(page_number_pattern, output)\n",
        "page_numbers = []\n",
        "if page_numbers_match:\n",
        "    numbers_group = page_numbers_match.group(1)\n",
        "    for num in numbers_group.split(','):\n",
        "        num = num.strip()\n",
        "        num = num.strip('\"')\n",
        "        if num.isdigit():\n",
        "            page_numbers.append(int(num))\n",
        "page_number_pattern = r'\"page_number\"\\s*:\\s*(\\d+)'\n",
        "page_numbers_match = re.search(page_number_pattern, output)\n",
        "if page_numbers_match:\n",
        "    numbers_group = page_numbers_match.group(1)\n",
        "    for num in numbers_group.split(','):\n",
        "        num = num.strip()\n",
        "        num = num.strip('\"')\n",
        "        if num.isdigit():\n",
        "            page_numbers.append(int(num))\n",
        "print(images)\n",
        "print(page_numbers)\n"
      ]
    },
    {
      "cell_type": "code",
      "execution_count": 50,
      "metadata": {},
      "outputs": [
        {
          "name": "stdout",
          "output_type": "stream",
          "text": [
            "['figure-188-307.jpg'] []\n"
          ]
        }
      ],
      "source": [
        "output = \"/mnt/c/Users/hryad/Desktop/iitm/Knowledge Graph LLM/DocBot_Yamaha/figures/figure-188-307.jpg\"\n",
        "image_path_pattern = r'figure-(\\d+-\\d+)\\.jpg'\n",
        "image_path_match = re.findall(image_path_pattern, output)\n",
        "images=[]\n",
        "if len(image_path_match):\n",
        "    for ele in image_path_match:\n",
        "        image_name=\"figure-\"+image_path_match[0]+\".jpg\"\n",
        "        images.append(image_name)\n",
        "page_number_pattern = r'\"page_numbers?\"\\s*:\\s*\\[([0-9\\s,\"]+)\\]'\n",
        "page_numbers_match = re.search(page_number_pattern, output)\n",
        "page_numbers = []\n",
        "if page_numbers_match:\n",
        "    numbers_group = page_numbers_match.group(1)\n",
        "    for num in numbers_group.split(','):\n",
        "        num = num.strip()\n",
        "        num = num.strip('\"')\n",
        "        if num.isdigit():\n",
        "            page_numbers.append(int(num))\n",
        "print(images,page_numbers)"
      ]
    }
  ],
  "metadata": {
    "accelerator": "GPU",
    "colab": {
      "gpuType": "T4",
      "provenance": []
    },
    "kernelspec": {
      "display_name": "Python 3",
      "name": "python3"
    },
    "language_info": {
      "codemirror_mode": {
        "name": "ipython",
        "version": 3
      },
      "file_extension": ".py",
      "mimetype": "text/x-python",
      "name": "python",
      "nbconvert_exporter": "python",
      "pygments_lexer": "ipython3",
      "version": "3.10.12"
    }
  },
  "nbformat": 4,
  "nbformat_minor": 0
}
